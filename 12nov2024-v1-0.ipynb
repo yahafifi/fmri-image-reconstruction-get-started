{
 "cells": [
  {
   "cell_type": "code",
   "execution_count": 1,
   "id": "340534d6",
   "metadata": {
    "_cell_guid": "b1076dfc-b9ad-4769-8c92-a6c4dae69d19",
    "_uuid": "8f2839f25d086af736a60e9eeb907d3b93b6e0e5",
    "execution": {
     "iopub.execute_input": "2024-11-12T06:18:10.481561Z",
     "iopub.status.busy": "2024-11-12T06:18:10.481179Z",
     "iopub.status.idle": "2024-11-12T06:19:09.052514Z",
     "shell.execute_reply": "2024-11-12T06:19:09.051498Z"
    },
    "papermill": {
     "duration": 58.578983,
     "end_time": "2024-11-12T06:19:09.054997",
     "exception": false,
     "start_time": "2024-11-12T06:18:10.476014",
     "status": "completed"
    },
    "tags": []
   },
   "outputs": [
    {
     "name": "stdout",
     "output_type": "stream",
     "text": [
      "--2024-11-12 06:18:11--  https://my.microsoftpersonalcontent.com/personal/802fb67c5dc88f59/_layouts/15/download.aspx?UniqueId=5dc88f59-b67c-202f-8080-f72e00000000&Translate=false&tempauth=v1e.eyJzaXRlaWQiOiJmNmNlZWYyYi1jNzQ2LTQxZjUtOWQ5MC1mOWQzZmM3N2MxODMiLCJhdWQiOiIwMDAwMDAwMy0wMDAwLTBmZjEtY2UwMC0wMDAwMDAwMDAwMDAvbXkubWljcm9zb2Z0cGVyc29uYWxjb250ZW50LmNvbUA5MTg4MDQwZC02YzY3LTRjNWItYjExMi0zNmEzMDRiNjZkYWQiLCJleHAiOiIxNzMxMzk1MTg0In0.zGNDfRddtSS3I32nEa8mbaKDpcZT7DGomU20l2A5lX7bjOJRzv0nPYA9F0DqFpb0ECuhLwVp8jMO2HjC9grmUpBv5kQN0Loxa10QpYwfzijjMvTPISKNZOLIEzHh6oUxlXMxt2bmQO6KyCjCFJd2ifQh6fOlxQz_edD_D734opSX3N8JUFEhaKEPUKZXoIO0QGaAtPcSG5P2UgyEdhC55aDq9BSLKj5xqcVY50RyiaY-dX2La1Aq7CsOSslBPdVkvv-9Evx8Jz-pH-jAzaOb56TMIZapVhqa7-ka2oIY4EQ6_hfk1DwmkyBrtM-RfKI7MElIQ6iK4Cw7RHU4DhYFaQHr6atGkXG0PJERNJBYVWqCqqqNAZO3y7CCHEHtTOjeogBy4RHLcdZwdYHz2gAnffbPYi-4y_CunS6b5gj5WuOisjXaFZ3iGZPneUdDVaEHxy9Lvz3lLqsX4zFIa5Ov11D87mmWftnJGurCs-1sTwoZovpNVxcv47Q47JvdqiBUK9wOMxAgC8yn8FscVFKSpQ.wRJbdxYw8PsYBapVnQcSshoB0v5FKaATORqotPshCew&ApiVersion=2.0\r\n",
      "Resolving my.microsoftpersonalcontent.com (my.microsoftpersonalcontent.com)... 13.107.139.11, 13.107.137.11\r\n",
      "Connecting to my.microsoftpersonalcontent.com (my.microsoftpersonalcontent.com)|13.107.139.11|:443... connected.\r\n",
      "HTTP request sent, awaiting response... 200 OK\r\n",
      "Length: 1911624048 (1.8G) [application/x-zip-compressed]\r\n",
      "Saving to: '/kaggle/working/dataset.zip'\r\n",
      "\r\n",
      "/kaggle/working/dat 100%[===================>]   1.78G  30.8MB/s    in 57s     \r\n",
      "\r\n",
      "2024-11-12 06:19:08 (31.9 MB/s) - '/kaggle/working/dataset.zip' saved [1911624048/1911624048]\r\n",
      "\r\n"
     ]
    }
   ],
   "source": [
    "!wget -O /kaggle/working/dataset.zip \"https://my.microsoftpersonalcontent.com/personal/802fb67c5dc88f59/_layouts/15/download.aspx?UniqueId=5dc88f59-b67c-202f-8080-f72e00000000&Translate=false&tempauth=v1e.eyJzaXRlaWQiOiJmNmNlZWYyYi1jNzQ2LTQxZjUtOWQ5MC1mOWQzZmM3N2MxODMiLCJhdWQiOiIwMDAwMDAwMy0wMDAwLTBmZjEtY2UwMC0wMDAwMDAwMDAwMDAvbXkubWljcm9zb2Z0cGVyc29uYWxjb250ZW50LmNvbUA5MTg4MDQwZC02YzY3LTRjNWItYjExMi0zNmEzMDRiNjZkYWQiLCJleHAiOiIxNzMxMzk1MTg0In0.zGNDfRddtSS3I32nEa8mbaKDpcZT7DGomU20l2A5lX7bjOJRzv0nPYA9F0DqFpb0ECuhLwVp8jMO2HjC9grmUpBv5kQN0Loxa10QpYwfzijjMvTPISKNZOLIEzHh6oUxlXMxt2bmQO6KyCjCFJd2ifQh6fOlxQz_edD_D734opSX3N8JUFEhaKEPUKZXoIO0QGaAtPcSG5P2UgyEdhC55aDq9BSLKj5xqcVY50RyiaY-dX2La1Aq7CsOSslBPdVkvv-9Evx8Jz-pH-jAzaOb56TMIZapVhqa7-ka2oIY4EQ6_hfk1DwmkyBrtM-RfKI7MElIQ6iK4Cw7RHU4DhYFaQHr6atGkXG0PJERNJBYVWqCqqqNAZO3y7CCHEHtTOjeogBy4RHLcdZwdYHz2gAnffbPYi-4y_CunS6b5gj5WuOisjXaFZ3iGZPneUdDVaEHxy9Lvz3lLqsX4zFIa5Ov11D87mmWftnJGurCs-1sTwoZovpNVxcv47Q47JvdqiBUK9wOMxAgC8yn8FscVFKSpQ.wRJbdxYw8PsYBapVnQcSshoB0v5FKaATORqotPshCew&ApiVersion=2.0\""
   ]
  },
  {
   "cell_type": "code",
   "execution_count": 2,
   "id": "c9ed071a",
   "metadata": {
    "execution": {
     "iopub.execute_input": "2024-11-12T06:19:09.101925Z",
     "iopub.status.busy": "2024-11-12T06:19:09.101232Z",
     "iopub.status.idle": "2024-11-12T06:19:25.367474Z",
     "shell.execute_reply": "2024-11-12T06:19:25.365776Z"
    },
    "papermill": {
     "duration": 16.292284,
     "end_time": "2024-11-12T06:19:25.370311",
     "exception": false,
     "start_time": "2024-11-12T06:19:09.078027",
     "status": "completed"
    },
    "tags": []
   },
   "outputs": [
    {
     "name": "stdout",
     "output_type": "stream",
     "text": [
      "Dataset unzipped successfully.\n"
     ]
    }
   ],
   "source": [
    "import zipfile\n",
    "import os\n",
    "\n",
    "# Define paths\n",
    "input_zip_path = '/kaggle/working/dataset.zip'  # Update this path if needed\n",
    "output_folder = '/kaggle/working/dataset'\n",
    "\n",
    "# Create the output directory if it doesn’t exist\n",
    "os.makedirs(output_folder, exist_ok=True)\n",
    "\n",
    "# Unzip the dataset\n",
    "with zipfile.ZipFile(input_zip_path, 'r') as zip_ref:\n",
    "    zip_ref.extractall(output_folder)\n",
    "\n",
    "print(\"Dataset unzipped successfully.\")"
   ]
  },
  {
   "cell_type": "code",
   "execution_count": 3,
   "id": "6b24add1",
   "metadata": {
    "execution": {
     "iopub.execute_input": "2024-11-12T06:19:25.428110Z",
     "iopub.status.busy": "2024-11-12T06:19:25.427448Z",
     "iopub.status.idle": "2024-11-12T06:19:55.356268Z",
     "shell.execute_reply": "2024-11-12T06:19:55.355192Z"
    },
    "papermill": {
     "duration": 29.958891,
     "end_time": "2024-11-12T06:19:55.358419",
     "exception": false,
     "start_time": "2024-11-12T06:19:25.399528",
     "status": "completed"
    },
    "tags": []
   },
   "outputs": [
    {
     "name": "stdout",
     "output_type": "stream",
     "text": [
      "Preprocessed data for Subject 1 saved as .npz files.\n",
      "Preprocessed data for Subject 2 saved as .npz files.\n",
      "Preprocessed data for Subject 3 saved as .npz files.\n",
      "Preprocessed data for Subject 4 saved as .npz files.\n",
      "Preprocessed data for Subject 5 saved as .npz files.\n"
     ]
    }
   ],
   "source": [
    "import numpy as np\n",
    "import os\n",
    "\n",
    "# Define a function to normalize image data\n",
    "def normalize_images(images):\n",
    "    return images / 255.0  # Normalize RGB values to [0, 1]\n",
    "\n",
    "# Define a function to standardize fMRI data\n",
    "def standardize_fmri(fmri_data):\n",
    "    mean = np.mean(fmri_data, axis=0)\n",
    "    std = np.std(fmri_data, axis=0)\n",
    "    return (fmri_data - mean) / std  # Standardize to mean 0 and std 1\n",
    "\n",
    "# Main function to preprocess data\n",
    "def preprocess_and_save(subject_num, raw_data_dir, preprocessed_data_dir):\n",
    "    # Load image data\n",
    "    image_data = np.load(os.path.join(raw_data_dir, 'images_256.npz'))\n",
    "    train_images = image_data['train_images']\n",
    "    test_images = image_data['test_images']\n",
    "\n",
    "    # Normalize images\n",
    "    train_images_normalized = normalize_images(train_images)\n",
    "    test_images_normalized = normalize_images(test_images)\n",
    "\n",
    "    # Load fMRI data for the subject\n",
    "    subject_data = np.load(os.path.join(raw_data_dir, f'sbj_{subject_num}.npz'))\n",
    "    train_fmri = subject_data['arr_0']\n",
    "    test_fmri = subject_data['arr_2']\n",
    "\n",
    "    # Standardize fMRI data\n",
    "    train_fmri_standardized = standardize_fmri(train_fmri)\n",
    "    test_fmri_standardized = standardize_fmri(test_fmri)\n",
    "\n",
    "    # Save the preprocessed data as .npz files in the preprocessed data directory\n",
    "    np.savez(os.path.join(preprocessed_data_dir, f'preprocessed_data_subject_{subject_num}_train.npz'),\n",
    "             images=train_images_normalized, fmri=train_fmri_standardized)\n",
    "    np.savez(os.path.join(preprocessed_data_dir, f'preprocessed_data_subject_{subject_num}_test.npz'),\n",
    "             images=test_images_normalized, fmri=test_fmri_standardized)\n",
    "\n",
    "    print(f\"Preprocessed data for Subject {subject_num} saved as .npz files.\")\n",
    "\n",
    "# Set paths for Kaggle\n",
    "raw_data_dir = '/kaggle/working/dataset/data/Kamitani/npz'\n",
    "preprocessed_data_dir = '/kaggle/working/preprocessed'\n",
    "\n",
    "# Ensure the output directory exists\n",
    "os.makedirs(preprocessed_data_dir, exist_ok=True)\n",
    "\n",
    "# Preprocess and save data for each subject\n",
    "for subject_num in range(1, 6):\n",
    "    preprocess_and_save(subject_num, raw_data_dir, preprocessed_data_dir)"
   ]
  },
  {
   "cell_type": "code",
   "execution_count": 4,
   "id": "5c4abbc5",
   "metadata": {
    "execution": {
     "iopub.execute_input": "2024-11-12T06:20:09.147708Z",
     "iopub.status.busy": "2024-11-12T06:20:09.147134Z",
     "iopub.status.idle": "2024-11-12T06:20:27.726577Z",
     "shell.execute_reply": "2024-11-12T06:20:27.725112Z"
    },
    "papermill": {
     "duration": 18.626191,
     "end_time": "2024-11-12T06:20:27.728650",
     "exception": false,
     "start_time": "2024-11-12T06:20:09.102459",
     "status": "completed"
    },
    "tags": []
   },
   "outputs": [
    {
     "name": "stderr",
     "output_type": "stream",
     "text": [
      "/opt/conda/lib/python3.10/site-packages/torchvision/models/_utils.py:208: UserWarning: The parameter 'pretrained' is deprecated since 0.13 and may be removed in the future, please use 'weights' instead.\n",
      "  warnings.warn(\n",
      "/opt/conda/lib/python3.10/site-packages/torchvision/models/_utils.py:223: UserWarning: Arguments other than a weight enum or `None` for 'weights' are deprecated since 0.13 and may be removed in the future. The current behavior is equivalent to passing `weights=VGG16_Weights.IMAGENET1K_V1`. You can also use `weights=VGG16_Weights.DEFAULT` to get the most up-to-date weights.\n",
      "  warnings.warn(msg)\n",
      "Downloading: \"https://download.pytorch.org/models/vgg16-397923af.pth\" to /root/.cache/torch/hub/checkpoints/vgg16-397923af.pth\n",
      "100%|██████████| 528M/528M [00:02<00:00, 194MB/s]\n"
     ]
    },
    {
     "name": "stdout",
     "output_type": "stream",
     "text": [
      "Flattened extracted features shape: (1200, 25088)\n",
      "Feature extraction and flattening completed and saved.\n"
     ]
    }
   ],
   "source": [
    "import torch\n",
    "import torchvision.models as models\n",
    "import torchvision.transforms as transforms\n",
    "from torch.utils.data import DataLoader, Dataset\n",
    "import numpy as np\n",
    "\n",
    "# Load a pretrained model (e.g., VGG16) and set it to evaluation mode\n",
    "cnn_model = models.vgg16(pretrained=True).features.to(\"cuda\" if torch.cuda.is_available() else \"cpu\")\n",
    "cnn_model.eval()\n",
    "\n",
    "# Define transformations for the input images\n",
    "transform = transforms.Compose([\n",
    "    transforms.ToPILImage(),\n",
    "    transforms.Resize((224, 224)),  # Resize to fit VGG16\n",
    "    transforms.ToTensor(),\n",
    "    transforms.Normalize(mean=[0.485, 0.456, 0.406], std=[0.229, 0.224, 0.225])\n",
    "])\n",
    "\n",
    "# Dataset class for loading and transforming images\n",
    "class ImageDataset(Dataset):\n",
    "    def __init__(self, images):\n",
    "        self.images = images\n",
    "\n",
    "    def __len__(self):\n",
    "        return len(self.images)\n",
    "\n",
    "    def __getitem__(self, idx):\n",
    "        image = self.images[idx]\n",
    "        image = transform(image)  # Apply transforms\n",
    "        return image\n",
    "\n",
    "# Function to extract and flatten features\n",
    "def extract_features(image_data, batch_size=16):\n",
    "    # Create DataLoader for images\n",
    "    dataset = ImageDataset(image_data)\n",
    "    loader = DataLoader(dataset, batch_size=batch_size, shuffle=False)\n",
    "\n",
    "    features = []\n",
    "    with torch.no_grad():\n",
    "        for images in loader:\n",
    "            images = images.to(\"cuda\" if torch.cuda.is_available() else \"cpu\")\n",
    "            output = cnn_model(images)\n",
    "            features.append(output.cpu().numpy())\n",
    "    features = np.concatenate(features, axis=0)\n",
    "    return features.reshape(features.shape[0], -1)  # Flatten to (num_samples, 25088)\n",
    "\n",
    "# Load image data, apply feature extraction and flattening, and save features\n",
    "image_data = np.load('/kaggle/working/preprocessed/preprocessed_data_subject_1_train.npz')['images']\n",
    "extracted_features_flat = extract_features(image_data)\n",
    "print(\"Flattened extracted features shape:\", extracted_features_flat.shape)  # Should be (1200, 25088)\n",
    "np.save('/kaggle/working/extracted_features_flat.npy', extracted_features_flat)\n",
    "print(\"Feature extraction and flattening completed and saved.\")\n"
   ]
  },
  {
   "cell_type": "code",
   "execution_count": 5,
   "id": "3d4b3902",
   "metadata": {
    "execution": {
     "iopub.execute_input": "2024-11-12T06:20:27.786050Z",
     "iopub.status.busy": "2024-11-12T06:20:27.785589Z",
     "iopub.status.idle": "2024-11-12T06:20:37.898634Z",
     "shell.execute_reply": "2024-11-12T06:20:37.897566Z"
    },
    "papermill": {
     "duration": 10.144889,
     "end_time": "2024-11-12T06:20:37.900663",
     "exception": false,
     "start_time": "2024-11-12T06:20:27.755774",
     "status": "completed"
    },
    "tags": []
   },
   "outputs": [
    {
     "name": "stdout",
     "output_type": "stream",
     "text": [
      "fMRI data shape: (1200, 4466)\n",
      "Flattened feature data shape: (1200, 25088)\n",
      "Epoch [1/10], Loss: 1.5026\n",
      "Epoch [2/10], Loss: 1.9694\n",
      "Epoch [3/10], Loss: 1.8306\n",
      "Epoch [4/10], Loss: 1.5231\n",
      "Epoch [5/10], Loss: 1.6630\n",
      "Epoch [6/10], Loss: 1.9001\n",
      "Epoch [7/10], Loss: 1.6437\n",
      "Epoch [8/10], Loss: 1.6505\n",
      "Epoch [9/10], Loss: 1.2471\n",
      "Epoch [10/10], Loss: 1.3991\n",
      "Mapping model training completed and saved.\n"
     ]
    }
   ],
   "source": [
    "import torch\n",
    "import torch.nn as nn\n",
    "import torch.optim as optim\n",
    "from torch.utils.data import DataLoader, TensorDataset\n",
    "import numpy as np\n",
    "\n",
    "# Set up device\n",
    "device = torch.device(\"cuda\" if torch.cuda.is_available() else \"cpu\")\n",
    "\n",
    "# Define a simple regression model to map fMRI data to flattened visual features\n",
    "class FMRItoFeatures(nn.Module):\n",
    "    def __init__(self, fmri_size, feature_size):\n",
    "        super(FMRItoFeatures, self).__init__()\n",
    "        self.fc = nn.Sequential(\n",
    "            nn.Linear(fmri_size, 1024),\n",
    "            nn.ReLU(),\n",
    "            nn.Linear(1024, 2048),\n",
    "            nn.ReLU(),\n",
    "            nn.Linear(2048, feature_size)  # Match feature_size to the flattened feature dimension (25088)\n",
    "        )\n",
    "\n",
    "    def forward(self, x):\n",
    "        return self.fc(x)\n",
    "\n",
    "# Load fMRI and flattened feature data\n",
    "fmri_data = np.load('/kaggle/working/preprocessed/preprocessed_data_subject_1_train.npz')['fmri']\n",
    "feature_data_flat = np.load('/kaggle/working/extracted_features_flat.npy')\n",
    "\n",
    "# Check shapes of loaded data\n",
    "print(\"fMRI data shape:\", fmri_data.shape)\n",
    "print(\"Flattened feature data shape:\", feature_data_flat.shape)\n",
    "\n",
    "# Convert data to PyTorch tensors\n",
    "fmri_data = torch.tensor(fmri_data, dtype=torch.float32)\n",
    "feature_data_flat = torch.tensor(feature_data_flat, dtype=torch.float32)\n",
    "\n",
    "# Ensure feature_size matches the second dimension of feature_data\n",
    "feature_size = feature_data_flat.shape[1]\n",
    "model = FMRItoFeatures(fmri_size=fmri_data.shape[1], feature_size=feature_size).to(device)\n",
    "\n",
    "# Create DataLoader\n",
    "dataset = TensorDataset(fmri_data, feature_data_flat)\n",
    "loader = DataLoader(dataset, batch_size=16, shuffle=True)\n",
    "\n",
    "# Initialize optimizer and loss function\n",
    "optimizer = optim.Adam(model.parameters(), lr=0.001)\n",
    "criterion = nn.MSELoss()\n",
    "\n",
    "# Train the model\n",
    "num_epochs = 10\n",
    "for epoch in range(num_epochs):\n",
    "    for fmri, features in loader:\n",
    "        fmri = fmri.to(device)\n",
    "        features = features.to(device)\n",
    "\n",
    "        optimizer.zero_grad()\n",
    "        outputs = model(fmri)\n",
    "        loss = criterion(outputs, features)\n",
    "        loss.backward()\n",
    "        optimizer.step()\n",
    "\n",
    "    print(f\"Epoch [{epoch + 1}/{num_epochs}], Loss: {loss.item():.4f}\")\n",
    "\n",
    "# Save the trained mapping model\n",
    "torch.save(model.state_dict(), '/kaggle/working/fmri_to_features_model.pth')\n",
    "print(\"Mapping model training completed and saved.\")\n"
   ]
  },
  {
   "cell_type": "code",
   "execution_count": 6,
   "id": "5b6dfcf5",
   "metadata": {
    "execution": {
     "iopub.execute_input": "2024-11-12T06:20:37.952359Z",
     "iopub.status.busy": "2024-11-12T06:20:37.952021Z",
     "iopub.status.idle": "2024-11-12T06:20:37.956134Z",
     "shell.execute_reply": "2024-11-12T06:20:37.955271Z"
    },
    "papermill": {
     "duration": 0.032491,
     "end_time": "2024-11-12T06:20:37.958063",
     "exception": false,
     "start_time": "2024-11-12T06:20:37.925572",
     "status": "completed"
    },
    "tags": []
   },
   "outputs": [],
   "source": [
    "# # Save model weights\n",
    "# torch.save(model.state_dict(), '/kaggle/working/fmri_to_features_model.pth')\n",
    "# # torch.save(decoder.state_dict(), '/kaggle/working/decoder_model.pth')\n",
    "\n",
    "# # Save any data or intermediate outputs\n",
    "# np.save('/kaggle/working/extracted_features_flat.npy', extracted_features_flat)\n"
   ]
  },
  {
   "cell_type": "code",
   "execution_count": 7,
   "id": "a3bf8788",
   "metadata": {
    "execution": {
     "iopub.execute_input": "2024-11-12T06:20:38.008923Z",
     "iopub.status.busy": "2024-11-12T06:20:38.008581Z",
     "iopub.status.idle": "2024-11-12T06:20:38.015372Z",
     "shell.execute_reply": "2024-11-12T06:20:38.014499Z"
    },
    "papermill": {
     "duration": 0.034538,
     "end_time": "2024-11-12T06:20:38.017252",
     "exception": false,
     "start_time": "2024-11-12T06:20:37.982714",
     "status": "completed"
    },
    "tags": []
   },
   "outputs": [],
   "source": [
    "# import torch\n",
    "# import torch.nn as nn\n",
    "# import torch.optim as optim\n",
    "# from torch.utils.data import DataLoader, TensorDataset\n",
    "# from torch.cuda.amp import autocast, GradScaler\n",
    "# import numpy as np\n",
    "\n",
    "# # Define the Decoder Model to reconstruct images from flattened visual features\n",
    "# class FeaturesToImage(nn.Module):\n",
    "#     def __init__(self, feature_size, image_size):\n",
    "#         super(FeaturesToImage, self).__init__()\n",
    "#         self.fc = nn.Sequential(\n",
    "#             nn.Linear(feature_size, 2048),\n",
    "#             nn.ReLU(),\n",
    "#             nn.Linear(2048, 4096),\n",
    "#             nn.ReLU(),\n",
    "#             nn.Linear(4096, image_size),\n",
    "#             nn.Tanh()  # Assuming images are normalized between [-1, 1]\n",
    "#         )\n",
    "\n",
    "#     def forward(self, x):\n",
    "#         return self.fc(x)\n",
    "\n",
    "# # Load flattened features and original image data\n",
    "\n",
    "# feature_data_flat = np.load('/kaggle/working/extracted_features_flat.npy')\n",
    "# image_data = np.load('/kaggle/working/preprocessed/preprocessed_data_subject_1_train.npz')['images']\n",
    "# image_data = image_data.reshape(image_data.shape[0], -1)  # Flatten images to 1D vectors\n",
    "\n",
    "# # Convert data to PyTorch tensors\n",
    "# feature_data_flat = torch.tensor(feature_data_flat, dtype=torch.float32)\n",
    "# image_data = torch.tensor(image_data, dtype=torch.float32)\n",
    "\n",
    "# # Create DataLoader\n",
    "# batch_size = 4  # Reduced batch size\n",
    "# accumulation_steps = 4  # Accumulate gradients over 4 steps to simulate a larger batch size\n",
    "# dataset = TensorDataset(feature_data_flat, image_data)\n",
    "# loader = DataLoader(dataset, batch_size=batch_size, shuffle=True)\n",
    "\n",
    "# # Set up model, optimizer, and loss function\n",
    "# device = torch.device(\"cuda\" if torch.cuda.is_available() else \"cpu\")\n",
    "# decoder = FeaturesToImage(feature_size=feature_data_flat.shape[1], image_size=image_data.shape[1]).to(device)\n",
    "# optimizer = optim.Adam(decoder.parameters(), lr=0.001)\n",
    "# criterion = nn.MSELoss()\n",
    "# scaler = GradScaler()  # For mixed precision\n",
    "\n",
    "# # Train the decoder model\n",
    "# num_epochs = 10\n",
    "# for epoch in range(num_epochs):\n",
    "#     running_loss = 0.0\n",
    "#     for i, (features, images) in enumerate(loader):\n",
    "#         features, images = features.to(device), images.to(device)\n",
    "\n",
    "#         with autocast():  # Mixed precision training\n",
    "#             outputs = decoder(features)\n",
    "#             loss = criterion(outputs, images) / accumulation_steps  # Scale loss for gradient accumulation\n",
    "\n",
    "#         scaler.scale(loss).backward()\n",
    "        \n",
    "#         # Perform optimizer step after accumulating gradients\n",
    "#         if (i + 1) % accumulation_steps == 0:\n",
    "#             scaler.step(optimizer)\n",
    "#             scaler.update()\n",
    "#             optimizer.zero_grad()  # Reset gradients after accumulation\n",
    "\n",
    "#         # Clear cache after each batch to reduce memory fragmentation\n",
    "#         torch.cuda.empty_cache()\n",
    "\n",
    "#         running_loss += loss.item() * accumulation_steps\n",
    "#         if (i + 1) % 10 == 0:\n",
    "#             print(f\"Epoch [{epoch + 1}/{num_epochs}], Step [{i + 1}/{len(loader)}], Loss: {running_loss / (i + 1):.4f}\")\n",
    "\n",
    "#     print(f\"Epoch [{epoch + 1}/{num_epochs}], Average Loss: {running_loss / len(loader):.4f}\")\n",
    "\n",
    "# # Save the trained decoder model\n",
    "# torch.save(decoder.state_dict(), '/kaggle/working/decoder_model.pth')\n",
    "# print(\"Decoder model training completed and saved.\")\n"
   ]
  },
  {
   "cell_type": "code",
   "execution_count": null,
   "id": "84aae532",
   "metadata": {
    "papermill": {
     "duration": 0.025018,
     "end_time": "2024-11-12T06:20:38.067061",
     "exception": false,
     "start_time": "2024-11-12T06:20:38.042043",
     "status": "completed"
    },
    "tags": []
   },
   "outputs": [],
   "source": []
  }
 ],
 "metadata": {
  "kaggle": {
   "accelerator": "gpu",
   "dataSources": [],
   "dockerImageVersionId": 30787,
   "isGpuEnabled": true,
   "isInternetEnabled": true,
   "language": "python",
   "sourceType": "notebook"
  },
  "kernelspec": {
   "display_name": "Python 3",
   "language": "python",
   "name": "python3"
  },
  "language_info": {
   "codemirror_mode": {
    "name": "ipython",
    "version": 3
   },
   "file_extension": ".py",
   "mimetype": "text/x-python",
   "name": "python",
   "nbconvert_exporter": "python",
   "pygments_lexer": "ipython3",
   "version": "3.10.14"
  },
  "papermill": {
   "default_parameters": {},
   "duration": 151.655508,
   "end_time": "2024-11-12T06:20:39.514360",
   "environment_variables": {},
   "exception": null,
   "input_path": "__notebook__.ipynb",
   "output_path": "__notebook__.ipynb",
   "parameters": {},
   "start_time": "2024-11-12T06:18:07.858852",
   "version": "2.6.0"
  }
 },
 "nbformat": 4,
 "nbformat_minor": 5
}
