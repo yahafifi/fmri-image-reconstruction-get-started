{
 "cells": [
  {
   "cell_type": "code",
   "execution_count": 1,
   "id": "4f8ae4cf",
   "metadata": {
    "_cell_guid": "b1076dfc-b9ad-4769-8c92-a6c4dae69d19",
    "_uuid": "8f2839f25d086af736a60e9eeb907d3b93b6e0e5",
    "execution": {
     "iopub.execute_input": "2024-11-12T05:06:22.523890Z",
     "iopub.status.busy": "2024-11-12T05:06:22.523027Z",
     "iopub.status.idle": "2024-11-12T05:07:26.570091Z",
     "shell.execute_reply": "2024-11-12T05:07:26.568979Z"
    },
    "papermill": {
     "duration": 64.05484,
     "end_time": "2024-11-12T05:07:26.572567",
     "exception": false,
     "start_time": "2024-11-12T05:06:22.517727",
     "status": "completed"
    },
    "tags": []
   },
   "outputs": [
    {
     "name": "stdout",
     "output_type": "stream",
     "text": [
      "--2024-11-12 05:06:23--  https://my.microsoftpersonalcontent.com/personal/802fb67c5dc88f59/_layouts/15/download.aspx?UniqueId=5dc88f59-b67c-202f-8080-f72e00000000&Translate=false&tempauth=v1e.eyJzaXRlaWQiOiJmNmNlZWYyYi1jNzQ2LTQxZjUtOWQ5MC1mOWQzZmM3N2MxODMiLCJhdWQiOiIwMDAwMDAwMy0wMDAwLTBmZjEtY2UwMC0wMDAwMDAwMDAwMDAvbXkubWljcm9zb2Z0cGVyc29uYWxjb250ZW50LmNvbUA5MTg4MDQwZC02YzY3LTRjNWItYjExMi0zNmEzMDRiNjZkYWQiLCJleHAiOiIxNzMxMzg3NzU1In0.3RWZjqT4aA6C38E_1HxwrXR9jZetMxGFM_qCqnck84foV7LVhPN0KWT6afljC-r1cjyNksuCfCb1MLTkxG6l-sZkBuIiVbvVnslnJWjrzY5drDBD_iSmp1kEd6ZMcMlGgZMJrG6Katp4KwKImNfJK-IRtrtiAtlPZ1JrqWeARVf-Tr7LYKZSOshjaMS4FCLnlHZqPn0enKnwImPs1bZb6ekDPPEEC9ozD3KaADItWGB5feDO8qpYaXYSS0MGex2n-cp4oNlLWnM1ObO6rZDYxfghcM8HibJdZPmh4aRfu4CytySeUdiZ2KmgENMt-fcNUnwlRwu6rbCNQrn2YkuiEW42s7l7yb6DSOExGHPRsy2CjVA_CfOuCb60CxDXgLX0e0RnbFxiFdz7oJ3uUqCec9awWsNVM9T2vM9k-hXqDZf6uWGeaCCpQyjrFvTHcnatat6F6aR8Nt7p144HauY4aQ1-8ne-Sq4GzTruVVJVY7ISFVBXmbnmnJ36hKWi-qGwVHKDCoRDA71chs5-VaYU2g.xigAkRCJtVCUc1CA7EYEjq48GZvhBUsjfIgmLs_TdVI&ApiVersion=2.0\r\n",
      "Resolving my.microsoftpersonalcontent.com (my.microsoftpersonalcontent.com)... 13.107.139.11, 13.107.137.11\r\n",
      "Connecting to my.microsoftpersonalcontent.com (my.microsoftpersonalcontent.com)|13.107.139.11|:443... connected.\r\n",
      "HTTP request sent, awaiting response... 200 OK\r\n",
      "Length: 1911624048 (1.8G) [application/x-zip-compressed]\r\n",
      "Saving to: '/kaggle/working/dataset.zip'\r\n",
      "\r\n",
      "/kaggle/working/dat 100%[===================>]   1.78G  30.0MB/s    in 62s     \r\n",
      "\r\n",
      "2024-11-12 05:07:26 (29.2 MB/s) - '/kaggle/working/dataset.zip' saved [1911624048/1911624048]\r\n",
      "\r\n"
     ]
    }
   ],
   "source": [
    "!wget -O /kaggle/working/dataset.zip \"https://my.microsoftpersonalcontent.com/personal/802fb67c5dc88f59/_layouts/15/download.aspx?UniqueId=5dc88f59-b67c-202f-8080-f72e00000000&Translate=false&tempauth=v1e.eyJzaXRlaWQiOiJmNmNlZWYyYi1jNzQ2LTQxZjUtOWQ5MC1mOWQzZmM3N2MxODMiLCJhdWQiOiIwMDAwMDAwMy0wMDAwLTBmZjEtY2UwMC0wMDAwMDAwMDAwMDAvbXkubWljcm9zb2Z0cGVyc29uYWxjb250ZW50LmNvbUA5MTg4MDQwZC02YzY3LTRjNWItYjExMi0zNmEzMDRiNjZkYWQiLCJleHAiOiIxNzMxMzg3NzU1In0.3RWZjqT4aA6C38E_1HxwrXR9jZetMxGFM_qCqnck84foV7LVhPN0KWT6afljC-r1cjyNksuCfCb1MLTkxG6l-sZkBuIiVbvVnslnJWjrzY5drDBD_iSmp1kEd6ZMcMlGgZMJrG6Katp4KwKImNfJK-IRtrtiAtlPZ1JrqWeARVf-Tr7LYKZSOshjaMS4FCLnlHZqPn0enKnwImPs1bZb6ekDPPEEC9ozD3KaADItWGB5feDO8qpYaXYSS0MGex2n-cp4oNlLWnM1ObO6rZDYxfghcM8HibJdZPmh4aRfu4CytySeUdiZ2KmgENMt-fcNUnwlRwu6rbCNQrn2YkuiEW42s7l7yb6DSOExGHPRsy2CjVA_CfOuCb60CxDXgLX0e0RnbFxiFdz7oJ3uUqCec9awWsNVM9T2vM9k-hXqDZf6uWGeaCCpQyjrFvTHcnatat6F6aR8Nt7p144HauY4aQ1-8ne-Sq4GzTruVVJVY7ISFVBXmbnmnJ36hKWi-qGwVHKDCoRDA71chs5-VaYU2g.xigAkRCJtVCUc1CA7EYEjq48GZvhBUsjfIgmLs_TdVI&ApiVersion=2.0\""
   ]
  },
  {
   "cell_type": "code",
   "execution_count": 2,
   "id": "e5971af6",
   "metadata": {
    "execution": {
     "iopub.execute_input": "2024-11-12T05:07:26.621831Z",
     "iopub.status.busy": "2024-11-12T05:07:26.621154Z",
     "iopub.status.idle": "2024-11-12T05:07:43.016345Z",
     "shell.execute_reply": "2024-11-12T05:07:43.015329Z"
    },
    "papermill": {
     "duration": 16.422778,
     "end_time": "2024-11-12T05:07:43.018523",
     "exception": false,
     "start_time": "2024-11-12T05:07:26.595745",
     "status": "completed"
    },
    "tags": []
   },
   "outputs": [
    {
     "name": "stdout",
     "output_type": "stream",
     "text": [
      "Dataset unzipped successfully.\n"
     ]
    }
   ],
   "source": [
    "import zipfile\n",
    "import os\n",
    "\n",
    "# Define paths\n",
    "input_zip_path = '/kaggle/working/dataset.zip'  # Update this path if needed\n",
    "output_folder = '/kaggle/working/dataset'\n",
    "\n",
    "# Create the output directory if it doesn’t exist\n",
    "os.makedirs(output_folder, exist_ok=True)\n",
    "\n",
    "# Unzip the dataset\n",
    "with zipfile.ZipFile(input_zip_path, 'r') as zip_ref:\n",
    "    zip_ref.extractall(output_folder)\n",
    "\n",
    "print(\"Dataset unzipped successfully.\")"
   ]
  },
  {
   "cell_type": "code",
   "execution_count": 3,
   "id": "eb476a18",
   "metadata": {
    "execution": {
     "iopub.execute_input": "2024-11-12T05:07:43.064699Z",
     "iopub.status.busy": "2024-11-12T05:07:43.064332Z",
     "iopub.status.idle": "2024-11-12T05:08:15.060791Z",
     "shell.execute_reply": "2024-11-12T05:08:15.059789Z"
    },
    "papermill": {
     "duration": 32.060773,
     "end_time": "2024-11-12T05:08:15.101057",
     "exception": false,
     "start_time": "2024-11-12T05:07:43.040284",
     "status": "completed"
    },
    "tags": []
   },
   "outputs": [
    {
     "name": "stdout",
     "output_type": "stream",
     "text": [
      "Preprocessed data for Subject 1 saved as .npz files.\n",
      "Preprocessed data for Subject 2 saved as .npz files.\n",
      "Preprocessed data for Subject 3 saved as .npz files.\n",
      "Preprocessed data for Subject 4 saved as .npz files.\n",
      "Preprocessed data for Subject 5 saved as .npz files.\n"
     ]
    }
   ],
   "source": [
    "import numpy as np\n",
    "import os\n",
    "\n",
    "# Define a function to normalize image data\n",
    "def normalize_images(images):\n",
    "    return images / 255.0  # Normalize RGB values to [0, 1]\n",
    "\n",
    "# Define a function to standardize fMRI data\n",
    "def standardize_fmri(fmri_data):\n",
    "    mean = np.mean(fmri_data, axis=0)\n",
    "    std = np.std(fmri_data, axis=0)\n",
    "    return (fmri_data - mean) / std  # Standardize to mean 0 and std 1\n",
    "\n",
    "# Main function to preprocess data\n",
    "def preprocess_and_save(subject_num, raw_data_dir, preprocessed_data_dir):\n",
    "    # Load image data\n",
    "    image_data = np.load(os.path.join(raw_data_dir, 'images_256.npz'))\n",
    "    train_images = image_data['train_images']\n",
    "    test_images = image_data['test_images']\n",
    "\n",
    "    # Normalize images\n",
    "    train_images_normalized = normalize_images(train_images)\n",
    "    test_images_normalized = normalize_images(test_images)\n",
    "\n",
    "    # Load fMRI data for the subject\n",
    "    subject_data = np.load(os.path.join(raw_data_dir, f'sbj_{subject_num}.npz'))\n",
    "    train_fmri = subject_data['arr_0']\n",
    "    test_fmri = subject_data['arr_2']\n",
    "\n",
    "    # Standardize fMRI data\n",
    "    train_fmri_standardized = standardize_fmri(train_fmri)\n",
    "    test_fmri_standardized = standardize_fmri(test_fmri)\n",
    "\n",
    "    # Save the preprocessed data as .npz files in the preprocessed data directory\n",
    "    np.savez(os.path.join(preprocessed_data_dir, f'preprocessed_data_subject_{subject_num}_train.npz'),\n",
    "             images=train_images_normalized, fmri=train_fmri_standardized)\n",
    "    np.savez(os.path.join(preprocessed_data_dir, f'preprocessed_data_subject_{subject_num}_test.npz'),\n",
    "             images=test_images_normalized, fmri=test_fmri_standardized)\n",
    "\n",
    "    print(f\"Preprocessed data for Subject {subject_num} saved as .npz files.\")\n",
    "\n",
    "# Set paths for Kaggle\n",
    "raw_data_dir = '/kaggle/working/dataset/data/Kamitani/npz'\n",
    "preprocessed_data_dir = '/kaggle/working/preprocessed'\n",
    "\n",
    "# Ensure the output directory exists\n",
    "os.makedirs(preprocessed_data_dir, exist_ok=True)\n",
    "\n",
    "# Preprocess and save data for each subject\n",
    "for subject_num in range(1, 6):\n",
    "    preprocess_and_save(subject_num, raw_data_dir, preprocessed_data_dir)"
   ]
  },
  {
   "cell_type": "code",
   "execution_count": 4,
   "id": "f22bd464",
   "metadata": {
    "execution": {
     "iopub.execute_input": "2024-11-12T05:08:15.189703Z",
     "iopub.status.busy": "2024-11-12T05:08:15.189199Z",
     "iopub.status.idle": "2024-11-12T05:08:33.625345Z",
     "shell.execute_reply": "2024-11-12T05:08:33.624293Z"
    },
    "papermill": {
     "duration": 18.488799,
     "end_time": "2024-11-12T05:08:33.627708",
     "exception": false,
     "start_time": "2024-11-12T05:08:15.138909",
     "status": "completed"
    },
    "tags": []
   },
   "outputs": [
    {
     "name": "stderr",
     "output_type": "stream",
     "text": [
      "/opt/conda/lib/python3.10/site-packages/torchvision/models/_utils.py:208: UserWarning: The parameter 'pretrained' is deprecated since 0.13 and may be removed in the future, please use 'weights' instead.\n",
      "  warnings.warn(\n",
      "/opt/conda/lib/python3.10/site-packages/torchvision/models/_utils.py:223: UserWarning: Arguments other than a weight enum or `None` for 'weights' are deprecated since 0.13 and may be removed in the future. The current behavior is equivalent to passing `weights=VGG16_Weights.IMAGENET1K_V1`. You can also use `weights=VGG16_Weights.DEFAULT` to get the most up-to-date weights.\n",
      "  warnings.warn(msg)\n",
      "Downloading: \"https://download.pytorch.org/models/vgg16-397923af.pth\" to /root/.cache/torch/hub/checkpoints/vgg16-397923af.pth\n",
      "100%|██████████| 528M/528M [00:02<00:00, 195MB/s]\n"
     ]
    },
    {
     "name": "stdout",
     "output_type": "stream",
     "text": [
      "Flattened extracted features shape: (1200, 25088)\n",
      "Feature extraction and flattening completed and saved.\n"
     ]
    }
   ],
   "source": [
    "import torch\n",
    "import torchvision.models as models\n",
    "import torchvision.transforms as transforms\n",
    "from torch.utils.data import DataLoader, Dataset\n",
    "import numpy as np\n",
    "\n",
    "# Load a pretrained model (e.g., VGG16) and set it to evaluation mode\n",
    "cnn_model = models.vgg16(pretrained=True).features.to(\"cuda\" if torch.cuda.is_available() else \"cpu\")\n",
    "cnn_model.eval()\n",
    "\n",
    "# Define transformations for the input images\n",
    "transform = transforms.Compose([\n",
    "    transforms.ToPILImage(),\n",
    "    transforms.Resize((224, 224)),  # Resize to fit VGG16\n",
    "    transforms.ToTensor(),\n",
    "    transforms.Normalize(mean=[0.485, 0.456, 0.406], std=[0.229, 0.224, 0.225])\n",
    "])\n",
    "\n",
    "# Dataset class for loading and transforming images\n",
    "class ImageDataset(Dataset):\n",
    "    def __init__(self, images):\n",
    "        self.images = images\n",
    "\n",
    "    def __len__(self):\n",
    "        return len(self.images)\n",
    "\n",
    "    def __getitem__(self, idx):\n",
    "        image = self.images[idx]\n",
    "        image = transform(image)  # Apply transforms\n",
    "        return image\n",
    "\n",
    "# Function to extract and flatten features\n",
    "def extract_features(image_data, batch_size=16):\n",
    "    # Create DataLoader for images\n",
    "    dataset = ImageDataset(image_data)\n",
    "    loader = DataLoader(dataset, batch_size=batch_size, shuffle=False)\n",
    "\n",
    "    features = []\n",
    "    with torch.no_grad():\n",
    "        for images in loader:\n",
    "            images = images.to(\"cuda\" if torch.cuda.is_available() else \"cpu\")\n",
    "            output = cnn_model(images)\n",
    "            features.append(output.cpu().numpy())\n",
    "    features = np.concatenate(features, axis=0)\n",
    "    return features.reshape(features.shape[0], -1)  # Flatten to (num_samples, 25088)\n",
    "\n",
    "# Load image data, apply feature extraction and flattening, and save features\n",
    "image_data = np.load('/kaggle/working/preprocessed/preprocessed_data_subject_1_train.npz')['images']\n",
    "extracted_features_flat = extract_features(image_data)\n",
    "print(\"Flattened extracted features shape:\", extracted_features_flat.shape)  # Should be (1200, 25088)\n",
    "np.save('/kaggle/working/extracted_features_flat.npy', extracted_features_flat)\n",
    "print(\"Feature extraction and flattening completed and saved.\")\n"
   ]
  },
  {
   "cell_type": "code",
   "execution_count": 5,
   "id": "8e0c9ef5",
   "metadata": {
    "execution": {
     "iopub.execute_input": "2024-11-12T05:08:33.680725Z",
     "iopub.status.busy": "2024-11-12T05:08:33.680213Z",
     "iopub.status.idle": "2024-11-12T05:08:43.662086Z",
     "shell.execute_reply": "2024-11-12T05:08:43.661149Z"
    },
    "papermill": {
     "duration": 10.010014,
     "end_time": "2024-11-12T05:08:43.664742",
     "exception": false,
     "start_time": "2024-11-12T05:08:33.654728",
     "status": "completed"
    },
    "tags": []
   },
   "outputs": [
    {
     "name": "stdout",
     "output_type": "stream",
     "text": [
      "fMRI data shape: (1200, 4466)\n",
      "Flattened feature data shape: (1200, 25088)\n",
      "Epoch [1/10], Loss: 1.5298\n",
      "Epoch [2/10], Loss: 1.5821\n",
      "Epoch [3/10], Loss: 1.5921\n",
      "Epoch [4/10], Loss: 1.8172\n",
      "Epoch [5/10], Loss: 1.7252\n",
      "Epoch [6/10], Loss: 1.7207\n",
      "Epoch [7/10], Loss: 1.8478\n",
      "Epoch [8/10], Loss: 1.4023\n",
      "Epoch [9/10], Loss: 1.6849\n",
      "Epoch [10/10], Loss: 1.4082\n",
      "Mapping model training completed and saved.\n"
     ]
    }
   ],
   "source": [
    "import torch\n",
    "import torch.nn as nn\n",
    "import torch.optim as optim\n",
    "from torch.utils.data import DataLoader, TensorDataset\n",
    "import numpy as np\n",
    "\n",
    "# Set up device\n",
    "device = torch.device(\"cuda\" if torch.cuda.is_available() else \"cpu\")\n",
    "\n",
    "# Define a simple regression model to map fMRI data to flattened visual features\n",
    "class FMRItoFeatures(nn.Module):\n",
    "    def __init__(self, fmri_size, feature_size):\n",
    "        super(FMRItoFeatures, self).__init__()\n",
    "        self.fc = nn.Sequential(\n",
    "            nn.Linear(fmri_size, 1024),\n",
    "            nn.ReLU(),\n",
    "            nn.Linear(1024, 2048),\n",
    "            nn.ReLU(),\n",
    "            nn.Linear(2048, feature_size)  # Match feature_size to the flattened feature dimension (25088)\n",
    "        )\n",
    "\n",
    "    def forward(self, x):\n",
    "        return self.fc(x)\n",
    "\n",
    "# Load fMRI and flattened feature data\n",
    "fmri_data = np.load('/kaggle/working/preprocessed/preprocessed_data_subject_1_train.npz')['fmri']\n",
    "feature_data_flat = np.load('/kaggle/working/extracted_features_flat.npy')\n",
    "\n",
    "# Check shapes of loaded data\n",
    "print(\"fMRI data shape:\", fmri_data.shape)\n",
    "print(\"Flattened feature data shape:\", feature_data_flat.shape)\n",
    "\n",
    "# Convert data to PyTorch tensors\n",
    "fmri_data = torch.tensor(fmri_data, dtype=torch.float32)\n",
    "feature_data_flat = torch.tensor(feature_data_flat, dtype=torch.float32)\n",
    "\n",
    "# Ensure feature_size matches the second dimension of feature_data\n",
    "feature_size = feature_data_flat.shape[1]\n",
    "model = FMRItoFeatures(fmri_size=fmri_data.shape[1], feature_size=feature_size).to(device)\n",
    "\n",
    "# Create DataLoader\n",
    "dataset = TensorDataset(fmri_data, feature_data_flat)\n",
    "loader = DataLoader(dataset, batch_size=16, shuffle=True)\n",
    "\n",
    "# Initialize optimizer and loss function\n",
    "optimizer = optim.Adam(model.parameters(), lr=0.001)\n",
    "criterion = nn.MSELoss()\n",
    "\n",
    "# Train the model\n",
    "num_epochs = 10\n",
    "for epoch in range(num_epochs):\n",
    "    for fmri, features in loader:\n",
    "        fmri = fmri.to(device)\n",
    "        features = features.to(device)\n",
    "\n",
    "        optimizer.zero_grad()\n",
    "        outputs = model(fmri)\n",
    "        loss = criterion(outputs, features)\n",
    "        loss.backward()\n",
    "        optimizer.step()\n",
    "\n",
    "    print(f\"Epoch [{epoch + 1}/{num_epochs}], Loss: {loss.item():.4f}\")\n",
    "\n",
    "# Save the trained mapping model\n",
    "torch.save(model.state_dict(), '/kaggle/working/fmri_to_features_model.pth')\n",
    "print(\"Mapping model training completed and saved.\")\n"
   ]
  },
  {
   "cell_type": "code",
   "execution_count": 6,
   "id": "1a13d4b8",
   "metadata": {
    "execution": {
     "iopub.execute_input": "2024-11-12T05:08:43.720612Z",
     "iopub.status.busy": "2024-11-12T05:08:43.720235Z",
     "iopub.status.idle": "2024-11-12T05:08:44.464992Z",
     "shell.execute_reply": "2024-11-12T05:08:44.464141Z"
    },
    "papermill": {
     "duration": 0.774108,
     "end_time": "2024-11-12T05:08:44.467328",
     "exception": false,
     "start_time": "2024-11-12T05:08:43.693220",
     "status": "completed"
    },
    "tags": []
   },
   "outputs": [],
   "source": [
    "# Save model weights\n",
    "torch.save(model.state_dict(), '/kaggle/working/fmri_to_features_model.pth')\n",
    "# torch.save(decoder.state_dict(), '/kaggle/working/decoder_model.pth')\n",
    "\n",
    "# Save any data or intermediate outputs\n",
    "np.save('/kaggle/working/extracted_features_flat.npy', extracted_features_flat)\n"
   ]
  },
  {
   "cell_type": "code",
   "execution_count": null,
   "id": "d0909d12",
   "metadata": {
    "papermill": {
     "duration": 0.025676,
     "end_time": "2024-11-12T05:08:44.522322",
     "exception": false,
     "start_time": "2024-11-12T05:08:44.496646",
     "status": "completed"
    },
    "tags": []
   },
   "outputs": [],
   "source": []
  }
 ],
 "metadata": {
  "kaggle": {
   "accelerator": "gpu",
   "dataSources": [],
   "dockerImageVersionId": 30787,
   "isGpuEnabled": true,
   "isInternetEnabled": true,
   "language": "python",
   "sourceType": "notebook"
  },
  "kernelspec": {
   "display_name": "Python 3",
   "language": "python",
   "name": "python3"
  },
  "language_info": {
   "codemirror_mode": {
    "name": "ipython",
    "version": 3
   },
   "file_extension": ".py",
   "mimetype": "text/x-python",
   "name": "python",
   "nbconvert_exporter": "python",
   "pygments_lexer": "ipython3",
   "version": "3.10.14"
  },
  "papermill": {
   "default_parameters": {},
   "duration": 146.260874,
   "end_time": "2024-11-12T05:08:45.970238",
   "environment_variables": {},
   "exception": null,
   "input_path": "__notebook__.ipynb",
   "output_path": "__notebook__.ipynb",
   "parameters": {},
   "start_time": "2024-11-12T05:06:19.709364",
   "version": "2.6.0"
  }
 },
 "nbformat": 4,
 "nbformat_minor": 5
}
