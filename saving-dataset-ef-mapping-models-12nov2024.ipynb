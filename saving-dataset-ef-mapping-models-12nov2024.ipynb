{
 "cells": [
  {
   "cell_type": "code",
   "execution_count": 1,
   "id": "ec8a0e99",
   "metadata": {
    "_cell_guid": "b1076dfc-b9ad-4769-8c92-a6c4dae69d19",
    "_uuid": "8f2839f25d086af736a60e9eeb907d3b93b6e0e5",
    "execution": {
     "iopub.execute_input": "2024-11-12T10:27:41.844991Z",
     "iopub.status.busy": "2024-11-12T10:27:41.844127Z",
     "iopub.status.idle": "2024-11-12T10:27:45.620870Z",
     "shell.execute_reply": "2024-11-12T10:27:45.619851Z"
    },
    "papermill": {
     "duration": 3.78417,
     "end_time": "2024-11-12T10:27:45.623170",
     "exception": false,
     "start_time": "2024-11-12T10:27:41.839000",
     "status": "completed"
    },
    "tags": []
   },
   "outputs": [
    {
     "name": "stdout",
     "output_type": "stream",
     "text": [
      "--2024-11-12 10:27:42--  https://drive.usercontent.google.com/download?id=13H_onuCqnexpINDuusraN2jB0asgDo-n&export=download&authuser=0&confirm=t&uuid=09403947-c276-436f-92fa-e6579243d12e&at=AENtkXYPeIRv7KMALe9NsZzwwj_T%3A1731403973210\r\n",
      "Resolving drive.usercontent.google.com (drive.usercontent.google.com)... 64.233.187.132, 2404:6800:4008:c05::84\r\n",
      "Connecting to drive.usercontent.google.com (drive.usercontent.google.com)|64.233.187.132|:443... connected.\r\n",
      "HTTP request sent, awaiting response... 200 OK\r\n",
      "Length: 118493089 (113M) [application/octet-stream]\r\n",
      "Saving to: '/kaggle/working/extracted_features.zip'\r\n",
      "\r\n",
      "/kaggle/working/ext 100%[===================>] 113.00M   160MB/s    in 0.7s    \r\n",
      "\r\n",
      "2024-11-12 10:27:45 (160 MB/s) - '/kaggle/working/extracted_features.zip' saved [118493089/118493089]\r\n",
      "\r\n"
     ]
    }
   ],
   "source": [
    "!wget -O /kaggle/working/extracted_features.zip \"https://drive.usercontent.google.com/download?id=13H_onuCqnexpINDuusraN2jB0asgDo-n&export=download&authuser=0&confirm=t&uuid=09403947-c276-436f-92fa-e6579243d12e&at=AENtkXYPeIRv7KMALe9NsZzwwj_T%3A1731403973210\""
   ]
  },
  {
   "cell_type": "code",
   "execution_count": 2,
   "id": "4e141021",
   "metadata": {
    "execution": {
     "iopub.execute_input": "2024-11-12T10:27:45.632317Z",
     "iopub.status.busy": "2024-11-12T10:27:45.631982Z",
     "iopub.status.idle": "2024-11-12T10:28:48.151107Z",
     "shell.execute_reply": "2024-11-12T10:28:48.149975Z"
    },
    "papermill": {
     "duration": 62.526467,
     "end_time": "2024-11-12T10:28:48.153604",
     "exception": false,
     "start_time": "2024-11-12T10:27:45.627137",
     "status": "completed"
    },
    "tags": []
   },
   "outputs": [
    {
     "name": "stdout",
     "output_type": "stream",
     "text": [
      "--2024-11-12 10:27:46--  https://my.microsoftpersonalcontent.com/personal/802fb67c5dc88f59/_layouts/15/download.aspx?UniqueId=5dc88f59-b67c-202f-8080-f72e00000000&Translate=false&tempauth=v1e.eyJzaXRlaWQiOiJmNmNlZWYyYi1jNzQ2LTQxZjUtOWQ5MC1mOWQzZmM3N2MxODMiLCJhdWQiOiIwMDAwMDAwMy0wMDAwLTBmZjEtY2UwMC0wMDAwMDAwMDAwMDAvbXkubWljcm9zb2Z0cGVyc29uYWxjb250ZW50LmNvbUA5MTg4MDQwZC02YzY3LTRjNWItYjExMi0zNmEzMDRiNjZkYWQiLCJleHAiOiIxNzMxNDA3OTA4In0.oxGZ5Kn5VmMFny4-8vmoI5jVEYAPKK1XvW2PSNQcOxMtMl50Av1TTk56LdMOMFR3PSimKITQtjAhYfKteYVVfdt5cKtb03ITfeDKqPnxsQu5pD308AKhmSpM_Gg9ECGjs-2ouHbB7bySWQ8MXI4foN1zhcWMX0wqL7yHvbmzD-kVM66_6hUhs7vBRSJgz0nu4O77ntp4E1xrbKAZxj-yht1J0iJ2J9xVpj-QhSj0fqXCIOocvo8iIqzXB3lLp5CxuT0u9Nx_jNgY5RiA0jj1nKQ1Tw6PlOHB44LIPhM97JHUiBevyCc5Y0mWUw-b8npSHbV2HnMmBkGMvg17t2huYdoCw_Oo2m7m7XEH2XZId09ufqqJWR0YkTjLSBVFT-oGhelyRiyM0bTI0hfw0dzUtRK5up6C_N4eSsEg1PFwyPumNlxVFXb9H1U-2ZiWBzbrDe4S7QeocQsfLgrCBBKyJroyRkirocJd6UkExindZ5-i0LFoYlws_wCqI0v5-FmF21XAC8D5fsRQ0cUSKCzhXQ.qDHaBJNaDYULnkM_G0NupPbNpGNsh18eKhkiqQCtzj8&ApiVersion=2.0\r\n",
      "Resolving my.microsoftpersonalcontent.com (my.microsoftpersonalcontent.com)... 13.107.139.11, 13.107.137.11\r\n",
      "Connecting to my.microsoftpersonalcontent.com (my.microsoftpersonalcontent.com)|13.107.139.11|:443... connected.\r\n",
      "HTTP request sent, awaiting response... 200 OK\r\n",
      "Length: 1911624048 (1.8G) [application/x-zip-compressed]\r\n",
      "Saving to: '/kaggle/working/dataset.zip'\r\n",
      "\r\n",
      "/kaggle/working/dat 100%[===================>]   1.78G  27.7MB/s    in 61s     \r\n",
      "\r\n",
      "2024-11-12 10:28:48 (30.0 MB/s) - '/kaggle/working/dataset.zip' saved [1911624048/1911624048]\r\n",
      "\r\n"
     ]
    }
   ],
   "source": [
    " !wget -O /kaggle/working/dataset.zip \"https://my.microsoftpersonalcontent.com/personal/802fb67c5dc88f59/_layouts/15/download.aspx?UniqueId=5dc88f59-b67c-202f-8080-f72e00000000&Translate=false&tempauth=v1e.eyJzaXRlaWQiOiJmNmNlZWYyYi1jNzQ2LTQxZjUtOWQ5MC1mOWQzZmM3N2MxODMiLCJhdWQiOiIwMDAwMDAwMy0wMDAwLTBmZjEtY2UwMC0wMDAwMDAwMDAwMDAvbXkubWljcm9zb2Z0cGVyc29uYWxjb250ZW50LmNvbUA5MTg4MDQwZC02YzY3LTRjNWItYjExMi0zNmEzMDRiNjZkYWQiLCJleHAiOiIxNzMxNDA3OTA4In0.oxGZ5Kn5VmMFny4-8vmoI5jVEYAPKK1XvW2PSNQcOxMtMl50Av1TTk56LdMOMFR3PSimKITQtjAhYfKteYVVfdt5cKtb03ITfeDKqPnxsQu5pD308AKhmSpM_Gg9ECGjs-2ouHbB7bySWQ8MXI4foN1zhcWMX0wqL7yHvbmzD-kVM66_6hUhs7vBRSJgz0nu4O77ntp4E1xrbKAZxj-yht1J0iJ2J9xVpj-QhSj0fqXCIOocvo8iIqzXB3lLp5CxuT0u9Nx_jNgY5RiA0jj1nKQ1Tw6PlOHB44LIPhM97JHUiBevyCc5Y0mWUw-b8npSHbV2HnMmBkGMvg17t2huYdoCw_Oo2m7m7XEH2XZId09ufqqJWR0YkTjLSBVFT-oGhelyRiyM0bTI0hfw0dzUtRK5up6C_N4eSsEg1PFwyPumNlxVFXb9H1U-2ZiWBzbrDe4S7QeocQsfLgrCBBKyJroyRkirocJd6UkExindZ5-i0LFoYlws_wCqI0v5-FmF21XAC8D5fsRQ0cUSKCzhXQ.qDHaBJNaDYULnkM_G0NupPbNpGNsh18eKhkiqQCtzj8&ApiVersion=2.0\""
   ]
  },
  {
   "cell_type": "code",
   "execution_count": 3,
   "id": "08a23823",
   "metadata": {
    "execution": {
     "iopub.execute_input": "2024-11-12T10:28:48.201430Z",
     "iopub.status.busy": "2024-11-12T10:28:48.200541Z",
     "iopub.status.idle": "2024-11-12T10:29:05.777663Z",
     "shell.execute_reply": "2024-11-12T10:29:05.776675Z"
    },
    "papermill": {
     "duration": 17.603457,
     "end_time": "2024-11-12T10:29:05.779971",
     "exception": false,
     "start_time": "2024-11-12T10:28:48.176514",
     "status": "completed"
    },
    "tags": []
   },
   "outputs": [
    {
     "name": "stdout",
     "output_type": "stream",
     "text": [
      "Dataset unzipped successfully.\n",
      "extracted_features unzipped successfully.\n"
     ]
    }
   ],
   "source": [
    "import zipfile\n",
    "import os\n",
    "\n",
    "# Define paths for dataset\n",
    "input_zip_path = '/kaggle/working/dataset.zip'  # Update this path if needed\n",
    "output_folder = '/kaggle/working/dataset'\n",
    "\n",
    "# Create the output directory if it doesn’t exist\n",
    "os.makedirs(output_folder, exist_ok=True)\n",
    "\n",
    "# Unzip the dataset\n",
    "with zipfile.ZipFile(input_zip_path, 'r') as zip_ref:\n",
    "    zip_ref.extractall(output_folder)\n",
    "\n",
    "print(\"Dataset unzipped successfully.\")\n",
    "\n",
    "# Define paths for extracted features\n",
    "input_zip_path = '/kaggle/working/extracted_features.zip'  # Update this path if needed\n",
    "output_folder = '/kaggle/working/extracted_features'\n",
    "\n",
    "# Create the output directory if it doesn’t exist\n",
    "os.makedirs(output_folder, exist_ok=True)\n",
    "\n",
    "# Unzip the extracted features\n",
    "with zipfile.ZipFile(input_zip_path, 'r') as zip_ref:\n",
    "    zip_ref.extractall(output_folder)\n",
    "\n",
    "print(\"extracted_features unzipped successfully.\")"
   ]
  },
  {
   "cell_type": "code",
   "execution_count": 4,
   "id": "85c680a0",
   "metadata": {
    "execution": {
     "iopub.execute_input": "2024-11-12T10:29:05.827104Z",
     "iopub.status.busy": "2024-11-12T10:29:05.826268Z",
     "iopub.status.idle": "2024-11-12T10:29:36.045495Z",
     "shell.execute_reply": "2024-11-12T10:29:36.044531Z"
    },
    "papermill": {
     "duration": 44.193012,
     "end_time": "2024-11-12T10:29:49.995824",
     "exception": false,
     "start_time": "2024-11-12T10:29:05.802812",
     "status": "completed"
    },
    "tags": []
   },
   "outputs": [
    {
     "name": "stdout",
     "output_type": "stream",
     "text": [
      "Preprocessed data for Subject 1 saved as .npz files.\n",
      "Preprocessed data for Subject 2 saved as .npz files.\n",
      "Preprocessed data for Subject 3 saved as .npz files.\n",
      "Preprocessed data for Subject 4 saved as .npz files.\n",
      "Preprocessed data for Subject 5 saved as .npz files.\n"
     ]
    }
   ],
   "source": [
    "import numpy as np\n",
    "import os\n",
    "\n",
    "# Define a function to normalize image data\n",
    "def normalize_images(images):\n",
    "    return images / 255.0  # Normalize RGB values to [0, 1]\n",
    "\n",
    "# Define a function to standardize fMRI data\n",
    "def standardize_fmri(fmri_data):\n",
    "    mean = np.mean(fmri_data, axis=0)\n",
    "    std = np.std(fmri_data, axis=0)\n",
    "    return (fmri_data - mean) / std  # Standardize to mean 0 and std 1\n",
    "\n",
    "# Main function to preprocess data\n",
    "def preprocess_and_save(subject_num, raw_data_dir, preprocessed_data_dir):\n",
    "    # Load image data\n",
    "    image_data = np.load(os.path.join(raw_data_dir, 'images_256.npz'))\n",
    "    train_images = image_data['train_images']\n",
    "    test_images = image_data['test_images']\n",
    "\n",
    "    # Normalize images\n",
    "    train_images_normalized = normalize_images(train_images)\n",
    "    test_images_normalized = normalize_images(test_images)\n",
    "\n",
    "    # Load fMRI data for the subject\n",
    "    subject_data = np.load(os.path.join(raw_data_dir, f'sbj_{subject_num}.npz'))\n",
    "    train_fmri = subject_data['arr_0']\n",
    "    test_fmri = subject_data['arr_2']\n",
    "\n",
    "    # Standardize fMRI data\n",
    "    train_fmri_standardized = standardize_fmri(train_fmri)\n",
    "    test_fmri_standardized = standardize_fmri(test_fmri)\n",
    "\n",
    "    # Save the preprocessed data as .npz files in the preprocessed data directory\n",
    "    np.savez(os.path.join(preprocessed_data_dir, f'preprocessed_data_subject_{subject_num}_train.npz'),\n",
    "             images=train_images_normalized, fmri=train_fmri_standardized)\n",
    "    np.savez(os.path.join(preprocessed_data_dir, f'preprocessed_data_subject_{subject_num}_test.npz'),\n",
    "             images=test_images_normalized, fmri=test_fmri_standardized)\n",
    "\n",
    "    print(f\"Preprocessed data for Subject {subject_num} saved as .npz files.\")\n",
    "\n",
    "# Set paths for Kaggle\n",
    "raw_data_dir = '/kaggle/working/dataset/data/Kamitani/npz'\n",
    "preprocessed_data_dir = '/kaggle/working/preprocessed'\n",
    "\n",
    "# Ensure the output directory exists\n",
    "os.makedirs(preprocessed_data_dir, exist_ok=True)\n",
    "\n",
    "# Preprocess and save data for each subject\n",
    "for subject_num in range(1, 6):\n",
    "    preprocess_and_save(subject_num, raw_data_dir, preprocessed_data_dir)"
   ]
  },
  {
   "cell_type": "code",
   "execution_count": 5,
   "id": "49d98065",
   "metadata": {
    "execution": {
     "iopub.execute_input": "2024-11-12T10:29:50.255210Z",
     "iopub.status.busy": "2024-11-12T10:29:50.254086Z",
     "iopub.status.idle": "2024-11-12T10:30:08.432656Z",
     "shell.execute_reply": "2024-11-12T10:30:08.431626Z"
    },
    "papermill": {
     "duration": 18.393565,
     "end_time": "2024-11-12T10:30:08.434793",
     "exception": false,
     "start_time": "2024-11-12T10:29:50.041228",
     "status": "completed"
    },
    "tags": []
   },
   "outputs": [
    {
     "name": "stderr",
     "output_type": "stream",
     "text": [
      "/opt/conda/lib/python3.10/site-packages/torchvision/models/_utils.py:208: UserWarning: The parameter 'pretrained' is deprecated since 0.13 and may be removed in the future, please use 'weights' instead.\n",
      "  warnings.warn(\n",
      "/opt/conda/lib/python3.10/site-packages/torchvision/models/_utils.py:223: UserWarning: Arguments other than a weight enum or `None` for 'weights' are deprecated since 0.13 and may be removed in the future. The current behavior is equivalent to passing `weights=VGG16_Weights.IMAGENET1K_V1`. You can also use `weights=VGG16_Weights.DEFAULT` to get the most up-to-date weights.\n",
      "  warnings.warn(msg)\n",
      "Downloading: \"https://download.pytorch.org/models/vgg16-397923af.pth\" to /root/.cache/torch/hub/checkpoints/vgg16-397923af.pth\n",
      "100%|██████████| 528M/528M [00:02<00:00, 201MB/s]\n"
     ]
    },
    {
     "name": "stdout",
     "output_type": "stream",
     "text": [
      "Flattened extracted features shape: (1200, 25088)\n",
      "Feature extraction and flattening completed and saved.\n"
     ]
    }
   ],
   "source": [
    "import torch\n",
    "import torchvision.models as models\n",
    "import torchvision.transforms as transforms\n",
    "from torch.utils.data import DataLoader, Dataset\n",
    "import numpy as np\n",
    "\n",
    "# Load a pretrained model (e.g., VGG16) and set it to evaluation mode\n",
    "cnn_model = models.vgg16(pretrained=True).features.to(\"cuda\" if torch.cuda.is_available() else \"cpu\")\n",
    "cnn_model.eval()\n",
    "\n",
    "# Define transformations for the input images\n",
    "transform = transforms.Compose([\n",
    "    transforms.ToPILImage(),\n",
    "    transforms.Resize((224, 224)),  # Resize to fit VGG16\n",
    "    transforms.ToTensor(),\n",
    "    transforms.Normalize(mean=[0.485, 0.456, 0.406], std=[0.229, 0.224, 0.225])\n",
    "])\n",
    "\n",
    "# Dataset class for loading and transforming images\n",
    "class ImageDataset(Dataset):\n",
    "    def __init__(self, images):\n",
    "        self.images = images\n",
    "\n",
    "    def __len__(self):\n",
    "        return len(self.images)\n",
    "\n",
    "    def __getitem__(self, idx):\n",
    "        image = self.images[idx]\n",
    "        image = transform(image)  # Apply transforms\n",
    "        return image\n",
    "\n",
    "# Function to extract and flatten features\n",
    "def extract_features(image_data, batch_size=16):\n",
    "    # Create DataLoader for images\n",
    "    dataset = ImageDataset(image_data)\n",
    "    loader = DataLoader(dataset, batch_size=batch_size, shuffle=False)\n",
    "\n",
    "    features = []\n",
    "    with torch.no_grad():\n",
    "        for images in loader:\n",
    "            images = images.to(\"cuda\" if torch.cuda.is_available() else \"cpu\")\n",
    "            output = cnn_model(images)\n",
    "            features.append(output.cpu().numpy())\n",
    "    features = np.concatenate(features, axis=0)\n",
    "    return features.reshape(features.shape[0], -1)  # Flatten to (num_samples, 25088)\n",
    "\n",
    "# Load image data, apply feature extraction and flattening, and save features\n",
    "image_data = np.load('/kaggle/working/preprocessed/preprocessed_data_subject_1_train.npz')['images']\n",
    "extracted_features_flat = extract_features(image_data)\n",
    "print(\"Flattened extracted features shape:\", extracted_features_flat.shape)  # Should be (1200, 25088)\n",
    "np.save('/kaggle/working/extracted_features_flat.npy', extracted_features_flat)\n",
    "print(\"Feature extraction and flattening completed and saved.\")\n"
   ]
  },
  {
   "cell_type": "code",
   "execution_count": 6,
   "id": "4218015c",
   "metadata": {
    "execution": {
     "iopub.execute_input": "2024-11-12T10:30:08.489106Z",
     "iopub.status.busy": "2024-11-12T10:30:08.488362Z",
     "iopub.status.idle": "2024-11-12T10:30:18.516492Z",
     "shell.execute_reply": "2024-11-12T10:30:18.515375Z"
    },
    "papermill": {
     "duration": 10.05639,
     "end_time": "2024-11-12T10:30:18.518676",
     "exception": false,
     "start_time": "2024-11-12T10:30:08.462286",
     "status": "completed"
    },
    "tags": []
   },
   "outputs": [
    {
     "name": "stdout",
     "output_type": "stream",
     "text": [
      "fMRI data shape: (1200, 4466)\n",
      "Flattened feature data shape: (1200, 25088)\n",
      "Epoch [1/10], Loss: 1.5299\n",
      "Epoch [2/10], Loss: 1.6812\n",
      "Epoch [3/10], Loss: 1.8749\n",
      "Epoch [4/10], Loss: 1.8042\n",
      "Epoch [5/10], Loss: 2.0842\n",
      "Epoch [6/10], Loss: 1.6234\n",
      "Epoch [7/10], Loss: 1.7886\n",
      "Epoch [8/10], Loss: 1.7055\n",
      "Epoch [9/10], Loss: 1.6082\n",
      "Epoch [10/10], Loss: 1.8691\n",
      "Mapping model training completed and saved.\n"
     ]
    }
   ],
   "source": [
    "import torch\n",
    "import torch.nn as nn\n",
    "import torch.optim as optim\n",
    "from torch.utils.data import DataLoader, TensorDataset\n",
    "import numpy as np\n",
    "\n",
    "# Set up device\n",
    "device = torch.device(\"cuda\" if torch.cuda.is_available() else \"cpu\")\n",
    "\n",
    "# Define a simple regression model to map fMRI data to flattened visual features\n",
    "class FMRItoFeatures(nn.Module):\n",
    "    def __init__(self, fmri_size, feature_size):\n",
    "        super(FMRItoFeatures, self).__init__()\n",
    "        self.fc = nn.Sequential(\n",
    "            nn.Linear(fmri_size, 1024),\n",
    "            nn.ReLU(),\n",
    "            nn.Linear(1024, 2048),\n",
    "            nn.ReLU(),\n",
    "            nn.Linear(2048, feature_size)  # Match feature_size to the flattened feature dimension (25088)\n",
    "        )\n",
    "\n",
    "    def forward(self, x):\n",
    "        return self.fc(x)\n",
    "\n",
    "# Load fMRI and flattened feature data\n",
    "fmri_data = np.load('/kaggle/working/preprocessed/preprocessed_data_subject_1_train.npz')['fmri']\n",
    "feature_data_flat = np.load('/kaggle/working/extracted_features_flat.npy')\n",
    "\n",
    "# Check shapes of loaded data\n",
    "print(\"fMRI data shape:\", fmri_data.shape)\n",
    "print(\"Flattened feature data shape:\", feature_data_flat.shape)\n",
    "\n",
    "# Convert data to PyTorch tensors\n",
    "fmri_data = torch.tensor(fmri_data, dtype=torch.float32)\n",
    "feature_data_flat = torch.tensor(feature_data_flat, dtype=torch.float32)\n",
    "\n",
    "# Ensure feature_size matches the second dimension of feature_data\n",
    "feature_size = feature_data_flat.shape[1]\n",
    "model = FMRItoFeatures(fmri_size=fmri_data.shape[1], feature_size=feature_size).to(device)\n",
    "\n",
    "# Create DataLoader\n",
    "dataset = TensorDataset(fmri_data, feature_data_flat)\n",
    "loader = DataLoader(dataset, batch_size=16, shuffle=True)\n",
    "\n",
    "# Initialize optimizer and loss function\n",
    "optimizer = optim.Adam(model.parameters(), lr=0.001)\n",
    "criterion = nn.MSELoss()\n",
    "\n",
    "# Train the model\n",
    "num_epochs = 10\n",
    "for epoch in range(num_epochs):\n",
    "    for fmri, features in loader:\n",
    "        fmri = fmri.to(device)\n",
    "        features = features.to(device)\n",
    "\n",
    "        optimizer.zero_grad()\n",
    "        outputs = model(fmri)\n",
    "        loss = criterion(outputs, features)\n",
    "        loss.backward()\n",
    "        optimizer.step()\n",
    "\n",
    "    print(f\"Epoch [{epoch + 1}/{num_epochs}], Loss: {loss.item():.4f}\")\n",
    "\n",
    "# Save the trained mapping model\n",
    "torch.save(model.state_dict(), '/kaggle/working/fmri_to_features_model.pth')\n",
    "print(\"Mapping model training completed and saved.\")\n"
   ]
  },
  {
   "cell_type": "code",
   "execution_count": null,
   "id": "9a1f398e",
   "metadata": {
    "execution": {
     "iopub.status.busy": "2024-11-12T10:05:18.618479Z",
     "iopub.status.idle": "2024-11-12T10:05:18.618844Z",
     "shell.execute_reply": "2024-11-12T10:05:18.618658Z",
     "shell.execute_reply.started": "2024-11-12T10:05:18.618641Z"
    },
    "papermill": {
     "duration": 0.025393,
     "end_time": "2024-11-12T10:30:18.570366",
     "exception": false,
     "start_time": "2024-11-12T10:30:18.544973",
     "status": "completed"
    },
    "tags": []
   },
   "outputs": [],
   "source": [
    " "
   ]
  },
  {
   "cell_type": "code",
   "execution_count": null,
   "id": "1cfbdea9",
   "metadata": {
    "papermill": {
     "duration": 0.025437,
     "end_time": "2024-11-12T10:30:18.621479",
     "exception": false,
     "start_time": "2024-11-12T10:30:18.596042",
     "status": "completed"
    },
    "tags": []
   },
   "outputs": [],
   "source": []
  }
 ],
 "metadata": {
  "kaggle": {
   "accelerator": "gpu",
   "dataSources": [],
   "dockerImageVersionId": 30786,
   "isGpuEnabled": true,
   "isInternetEnabled": true,
   "language": "python",
   "sourceType": "notebook"
  },
  "kernelspec": {
   "display_name": "Python 3",
   "language": "python",
   "name": "python3"
  },
  "language_info": {
   "codemirror_mode": {
    "name": "ipython",
    "version": 3
   },
   "file_extension": ".py",
   "mimetype": "text/x-python",
   "name": "python",
   "nbconvert_exporter": "python",
   "pygments_lexer": "ipython3",
   "version": "3.10.14"
  },
  "papermill": {
   "default_parameters": {},
   "duration": 161.726766,
   "end_time": "2024-11-12T10:30:20.860120",
   "environment_variables": {},
   "exception": null,
   "input_path": "__notebook__.ipynb",
   "output_path": "__notebook__.ipynb",
   "parameters": {},
   "start_time": "2024-11-12T10:27:39.133354",
   "version": "2.6.0"
  }
 },
 "nbformat": 4,
 "nbformat_minor": 5
}
