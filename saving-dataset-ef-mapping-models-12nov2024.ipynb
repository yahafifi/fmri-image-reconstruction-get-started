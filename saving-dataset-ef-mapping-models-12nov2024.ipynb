{
 "cells": [
  {
   "cell_type": "code",
   "execution_count": 1,
   "id": "c8d7ea4b",
   "metadata": {
    "execution": {
     "iopub.execute_input": "2024-11-12T11:13:22.834799Z",
     "iopub.status.busy": "2024-11-12T11:13:22.833661Z",
     "iopub.status.idle": "2024-11-12T11:13:22.845833Z",
     "shell.execute_reply": "2024-11-12T11:13:22.844984Z"
    },
    "papermill": {
     "duration": 0.020775,
     "end_time": "2024-11-12T11:13:22.848144",
     "exception": false,
     "start_time": "2024-11-12T11:13:22.827369",
     "status": "completed"
    },
    "tags": []
   },
   "outputs": [],
   "source": [
    "import os\n",
    "import shutil\n",
    "\n",
    "# Define the new directory path\n",
    "new_directory = '/kaggle/working/GOD_With_EF_Map_Model'\n",
    "\n",
    "# Create the new directory\n",
    "os.makedirs(new_directory, exist_ok=True)"
   ]
  },
  {
   "cell_type": "code",
   "execution_count": 2,
   "id": "89571f8d",
   "metadata": {
    "_cell_guid": "b1076dfc-b9ad-4769-8c92-a6c4dae69d19",
    "_uuid": "8f2839f25d086af736a60e9eeb907d3b93b6e0e5",
    "execution": {
     "iopub.execute_input": "2024-11-12T11:13:22.858275Z",
     "iopub.status.busy": "2024-11-12T11:13:22.857855Z",
     "iopub.status.idle": "2024-11-12T11:13:26.926088Z",
     "shell.execute_reply": "2024-11-12T11:13:26.925015Z"
    },
    "papermill": {
     "duration": 4.07586,
     "end_time": "2024-11-12T11:13:26.928639",
     "exception": false,
     "start_time": "2024-11-12T11:13:22.852779",
     "status": "completed"
    },
    "tags": []
   },
   "outputs": [
    {
     "name": "stdout",
     "output_type": "stream",
     "text": [
      "--2024-11-12 11:13:23--  https://drive.usercontent.google.com/download?id=13H_onuCqnexpINDuusraN2jB0asgDo-n&export=download&authuser=0&confirm=t&uuid=09403947-c276-436f-92fa-e6579243d12e&at=AENtkXYPeIRv7KMALe9NsZzwwj_T%3A1731403973210\r\n",
      "Resolving drive.usercontent.google.com (drive.usercontent.google.com)... 142.251.170.132, 2404:6800:4008:c19::84\r\n",
      "Connecting to drive.usercontent.google.com (drive.usercontent.google.com)|142.251.170.132|:443... connected.\r\n",
      "HTTP request sent, awaiting response... 200 OK\r\n",
      "Length: 118493089 (113M) [application/octet-stream]\r\n",
      "Saving to: '/kaggle/working/GOD_With_EF_Map_Model/extracted_features.zip'\r\n",
      "\r\n",
      "/kaggle/working/GOD 100%[===================>] 113.00M   104MB/s    in 1.1s    \r\n",
      "\r\n",
      "2024-11-12 11:13:26 (104 MB/s) - '/kaggle/working/GOD_With_EF_Map_Model/extracted_features.zip' saved [118493089/118493089]\r\n",
      "\r\n"
     ]
    }
   ],
   "source": [
    "!wget -O /kaggle/working/GOD_With_EF_Map_Model/extracted_features.zip \"https://drive.usercontent.google.com/download?id=13H_onuCqnexpINDuusraN2jB0asgDo-n&export=download&authuser=0&confirm=t&uuid=09403947-c276-436f-92fa-e6579243d12e&at=AENtkXYPeIRv7KMALe9NsZzwwj_T%3A1731403973210\""
   ]
  },
  {
   "cell_type": "code",
   "execution_count": 3,
   "id": "936adb70",
   "metadata": {
    "execution": {
     "iopub.execute_input": "2024-11-12T11:13:26.939887Z",
     "iopub.status.busy": "2024-11-12T11:13:26.939451Z",
     "iopub.status.idle": "2024-11-12T11:14:22.254129Z",
     "shell.execute_reply": "2024-11-12T11:14:22.252788Z"
    },
    "papermill": {
     "duration": 55.323548,
     "end_time": "2024-11-12T11:14:22.257004",
     "exception": false,
     "start_time": "2024-11-12T11:13:26.933456",
     "status": "completed"
    },
    "tags": []
   },
   "outputs": [
    {
     "name": "stdout",
     "output_type": "stream",
     "text": [
      "--2024-11-12 11:13:28--  https://my.microsoftpersonalcontent.com/personal/802fb67c5dc88f59/_layouts/15/download.aspx?UniqueId=5dc88f59-b67c-202f-8080-f72e00000000&Translate=false&tempauth=v1e.eyJzaXRlaWQiOiJmNmNlZWYyYi1jNzQ2LTQxZjUtOWQ5MC1mOWQzZmM3N2MxODMiLCJhdWQiOiIwMDAwMDAwMy0wMDAwLTBmZjEtY2UwMC0wMDAwMDAwMDAwMDAvbXkubWljcm9zb2Z0cGVyc29uYWxjb250ZW50LmNvbUA5MTg4MDQwZC02YzY3LTRjNWItYjExMi0zNmEzMDRiNjZkYWQiLCJleHAiOiIxNzMxNDEzMDM3In0.jtC6cGeSgsNPpOL77TQ8F5e8R5hxjEFy6vBf4mGDEJi-RYoMhs29s-BIa52qzORxxr8EUq6R46b3HO3X60adJl9oBWF6nSekx0xTrkALoC7RO6YMI4J0buksKtFAr5VoMfwsROHzPZQdmHl_t4LQdCXDF_asBC4Ts9IkIDIq-waFmbYTbpjXnyGsh-xx98I20aN6RkgLlTTNm-AgW_G0hcdsyQtf9y3_HcUt0ru13PhrCYyRisTjo2JGtElLWlCr8R2JkyBjwQkX-5b8I8Sup7b7BfTz8vAJTPY9ri4CgqIMSmpvaGsZ3Fv1oxLM1M_H8IaZcC8nZSmInVo910kd7MAnEv5-U69TcQKqDIpwCs-I85Y6zI0njqcpNK-up_Gtxk5J7fAmcR0z3czXbQr7v0v8rSp0ypg4eBegLMRXgV49az9s6XuSU9qbQ2ic4UVszEiPkghgJEwSUSmGIZ5yHPyXJgd1GtP20ICqvtLcuodmdqrKUObTqXOZzXJe18sFSqRHDdUwsNb3eAMOUeJwTw.8L-UuE1mKvou1B5v6oDhthFNcn-M3paGb1DX-Mar3Ko&ApiVersion=2.0\r\n",
      "Resolving my.microsoftpersonalcontent.com (my.microsoftpersonalcontent.com)... 13.107.139.11, 13.107.137.11\r\n",
      "Connecting to my.microsoftpersonalcontent.com (my.microsoftpersonalcontent.com)|13.107.139.11|:443... connected.\r\n",
      "HTTP request sent, awaiting response... 200 OK\r\n",
      "Length: 1911624048 (1.8G) [application/x-zip-compressed]\r\n",
      "Saving to: '/kaggle/working/GOD_With_EF_Map_Model/dataset.zip'\r\n",
      "\r\n",
      "/kaggle/working/GOD 100%[===================>]   1.78G  34.5MB/s    in 53s     \r\n",
      "\r\n",
      "2024-11-12 11:14:22 (34.1 MB/s) - '/kaggle/working/GOD_With_EF_Map_Model/dataset.zip' saved [1911624048/1911624048]\r\n",
      "\r\n"
     ]
    }
   ],
   "source": [
    " !wget -O /kaggle/working/GOD_With_EF_Map_Model/dataset.zip \"https://my.microsoftpersonalcontent.com/personal/802fb67c5dc88f59/_layouts/15/download.aspx?UniqueId=5dc88f59-b67c-202f-8080-f72e00000000&Translate=false&tempauth=v1e.eyJzaXRlaWQiOiJmNmNlZWYyYi1jNzQ2LTQxZjUtOWQ5MC1mOWQzZmM3N2MxODMiLCJhdWQiOiIwMDAwMDAwMy0wMDAwLTBmZjEtY2UwMC0wMDAwMDAwMDAwMDAvbXkubWljcm9zb2Z0cGVyc29uYWxjb250ZW50LmNvbUA5MTg4MDQwZC02YzY3LTRjNWItYjExMi0zNmEzMDRiNjZkYWQiLCJleHAiOiIxNzMxNDEzMDM3In0.jtC6cGeSgsNPpOL77TQ8F5e8R5hxjEFy6vBf4mGDEJi-RYoMhs29s-BIa52qzORxxr8EUq6R46b3HO3X60adJl9oBWF6nSekx0xTrkALoC7RO6YMI4J0buksKtFAr5VoMfwsROHzPZQdmHl_t4LQdCXDF_asBC4Ts9IkIDIq-waFmbYTbpjXnyGsh-xx98I20aN6RkgLlTTNm-AgW_G0hcdsyQtf9y3_HcUt0ru13PhrCYyRisTjo2JGtElLWlCr8R2JkyBjwQkX-5b8I8Sup7b7BfTz8vAJTPY9ri4CgqIMSmpvaGsZ3Fv1oxLM1M_H8IaZcC8nZSmInVo910kd7MAnEv5-U69TcQKqDIpwCs-I85Y6zI0njqcpNK-up_Gtxk5J7fAmcR0z3czXbQr7v0v8rSp0ypg4eBegLMRXgV49az9s6XuSU9qbQ2ic4UVszEiPkghgJEwSUSmGIZ5yHPyXJgd1GtP20ICqvtLcuodmdqrKUObTqXOZzXJe18sFSqRHDdUwsNb3eAMOUeJwTw.8L-UuE1mKvou1B5v6oDhthFNcn-M3paGb1DX-Mar3Ko&ApiVersion=2.0\""
   ]
  },
  {
   "cell_type": "code",
   "execution_count": 4,
   "id": "7c5334dd",
   "metadata": {
    "execution": {
     "iopub.execute_input": "2024-11-12T11:14:22.311911Z",
     "iopub.status.busy": "2024-11-12T11:14:22.311027Z",
     "iopub.status.idle": "2024-11-12T11:14:42.151664Z",
     "shell.execute_reply": "2024-11-12T11:14:42.150432Z"
    },
    "papermill": {
     "duration": 19.870744,
     "end_time": "2024-11-12T11:14:42.154247",
     "exception": false,
     "start_time": "2024-11-12T11:14:22.283503",
     "status": "completed"
    },
    "tags": []
   },
   "outputs": [
    {
     "name": "stdout",
     "output_type": "stream",
     "text": [
      "Dataset unzipped successfully.\n",
      "extracted_features unzipped successfully.\n"
     ]
    }
   ],
   "source": [
    "import zipfile\n",
    "import os\n",
    "\n",
    "# Define paths for dataset\n",
    "input_zip_path = '/kaggle/working/GOD_With_EF_Map_Model/dataset.zip'  # Update this path if needed\n",
    "output_folder = '/kaggle/working/GOD_With_EF_Map_Model/dataset'\n",
    "\n",
    "# Create the output directory if it doesn’t exist\n",
    "os.makedirs(output_folder, exist_ok=True)\n",
    "\n",
    "# Unzip the dataset\n",
    "with zipfile.ZipFile(input_zip_path, 'r') as zip_ref:\n",
    "    zip_ref.extractall(output_folder)\n",
    "\n",
    "print(\"Dataset unzipped successfully.\")\n",
    "\n",
    "# Define paths for extracted features\n",
    "input_zip_path = '/kaggle/working/GOD_With_EF_Map_Model/extracted_features.zip'  # Update this path if needed\n",
    "output_folder = '/kaggle/working/GOD_With_EF_Map_Model/extracted_features'\n",
    "\n",
    "# Create the output directory if it doesn’t exist\n",
    "os.makedirs(output_folder, exist_ok=True)\n",
    "\n",
    "# Unzip the extracted features\n",
    "with zipfile.ZipFile(input_zip_path, 'r') as zip_ref:\n",
    "    zip_ref.extractall(output_folder)\n",
    "\n",
    "print(\"extracted_features unzipped successfully.\")"
   ]
  },
  {
   "cell_type": "code",
   "execution_count": 5,
   "id": "4a20f131",
   "metadata": {
    "execution": {
     "iopub.execute_input": "2024-11-12T11:14:42.210293Z",
     "iopub.status.busy": "2024-11-12T11:14:42.209561Z",
     "iopub.status.idle": "2024-11-12T11:15:14.412602Z",
     "shell.execute_reply": "2024-11-12T11:15:14.411527Z"
    },
    "papermill": {
     "duration": 46.177436,
     "end_time": "2024-11-12T11:15:28.358888",
     "exception": false,
     "start_time": "2024-11-12T11:14:42.181452",
     "status": "completed"
    },
    "tags": []
   },
   "outputs": [
    {
     "name": "stdout",
     "output_type": "stream",
     "text": [
      "Preprocessed data for Subject 1 saved as .npz files.\n",
      "Preprocessed data for Subject 2 saved as .npz files.\n",
      "Preprocessed data for Subject 3 saved as .npz files.\n",
      "Preprocessed data for Subject 4 saved as .npz files.\n",
      "Preprocessed data for Subject 5 saved as .npz files.\n"
     ]
    }
   ],
   "source": [
    "import numpy as np\n",
    "import os\n",
    "\n",
    "# Define a function to normalize image data\n",
    "def normalize_images(images):\n",
    "    return images / 255.0  # Normalize RGB values to [0, 1]\n",
    "\n",
    "# Define a function to standardize fMRI data\n",
    "def standardize_fmri(fmri_data):\n",
    "    mean = np.mean(fmri_data, axis=0)\n",
    "    std = np.std(fmri_data, axis=0)\n",
    "    return (fmri_data - mean) / std  # Standardize to mean 0 and std 1\n",
    "\n",
    "# Main function to preprocess data\n",
    "def preprocess_and_save(subject_num, raw_data_dir, preprocessed_data_dir):\n",
    "    # Load image data\n",
    "    image_data = np.load(os.path.join(raw_data_dir, 'images_256.npz'))\n",
    "    train_images = image_data['train_images']\n",
    "    test_images = image_data['test_images']\n",
    "\n",
    "    # Normalize images\n",
    "    train_images_normalized = normalize_images(train_images)\n",
    "    test_images_normalized = normalize_images(test_images)\n",
    "\n",
    "    # Load fMRI data for the subject\n",
    "    subject_data = np.load(os.path.join(raw_data_dir, f'sbj_{subject_num}.npz'))\n",
    "    train_fmri = subject_data['arr_0']\n",
    "    test_fmri = subject_data['arr_2']\n",
    "\n",
    "    # Standardize fMRI data\n",
    "    train_fmri_standardized = standardize_fmri(train_fmri)\n",
    "    test_fmri_standardized = standardize_fmri(test_fmri)\n",
    "\n",
    "    # Save the preprocessed data as .npz files in the preprocessed data directory\n",
    "    np.savez(os.path.join(preprocessed_data_dir, f'preprocessed_data_subject_{subject_num}_train.npz'),\n",
    "             images=train_images_normalized, fmri=train_fmri_standardized)\n",
    "    np.savez(os.path.join(preprocessed_data_dir, f'preprocessed_data_subject_{subject_num}_test.npz'),\n",
    "             images=test_images_normalized, fmri=test_fmri_standardized)\n",
    "\n",
    "    print(f\"Preprocessed data for Subject {subject_num} saved as .npz files.\")\n",
    "\n",
    "# Set paths for Kaggle\n",
    "raw_data_dir = '/kaggle/working/GOD_With_EF_Map_Model/dataset/data/Kamitani/npz'\n",
    "preprocessed_data_dir = '/kaggle/working/GOD_With_EF_Map_Model/preprocessed'\n",
    "\n",
    "# Ensure the output directory exists\n",
    "os.makedirs(preprocessed_data_dir, exist_ok=True)\n",
    "\n",
    "# Preprocess and save data for each subject\n",
    "for subject_num in range(1, 6):\n",
    "    preprocess_and_save(subject_num, raw_data_dir, preprocessed_data_dir)"
   ]
  },
  {
   "cell_type": "code",
   "execution_count": 6,
   "id": "35352ad4",
   "metadata": {
    "execution": {
     "iopub.execute_input": "2024-11-12T11:15:28.505905Z",
     "iopub.status.busy": "2024-11-12T11:15:28.504917Z",
     "iopub.status.idle": "2024-11-12T11:15:49.069477Z",
     "shell.execute_reply": "2024-11-12T11:15:49.068251Z"
    },
    "papermill": {
     "duration": 20.615728,
     "end_time": "2024-11-12T11:15:49.072128",
     "exception": false,
     "start_time": "2024-11-12T11:15:28.456400",
     "status": "completed"
    },
    "tags": []
   },
   "outputs": [
    {
     "name": "stderr",
     "output_type": "stream",
     "text": [
      "/opt/conda/lib/python3.10/site-packages/torchvision/models/_utils.py:208: UserWarning: The parameter 'pretrained' is deprecated since 0.13 and may be removed in the future, please use 'weights' instead.\n",
      "  warnings.warn(\n",
      "/opt/conda/lib/python3.10/site-packages/torchvision/models/_utils.py:223: UserWarning: Arguments other than a weight enum or `None` for 'weights' are deprecated since 0.13 and may be removed in the future. The current behavior is equivalent to passing `weights=VGG16_Weights.IMAGENET1K_V1`. You can also use `weights=VGG16_Weights.DEFAULT` to get the most up-to-date weights.\n",
      "  warnings.warn(msg)\n",
      "Downloading: \"https://download.pytorch.org/models/vgg16-397923af.pth\" to /root/.cache/torch/hub/checkpoints/vgg16-397923af.pth\n",
      "100%|██████████| 528M/528M [00:03<00:00, 155MB/s]\n"
     ]
    },
    {
     "name": "stdout",
     "output_type": "stream",
     "text": [
      "Flattened extracted features shape: (1200, 25088)\n",
      "Feature extraction and flattening completed and saved.\n"
     ]
    }
   ],
   "source": [
    "import torch\n",
    "import torchvision.models as models\n",
    "import torchvision.transforms as transforms\n",
    "from torch.utils.data import DataLoader, Dataset\n",
    "import numpy as np\n",
    "\n",
    "# Load a pretrained model (e.g., VGG16) and set it to evaluation mode\n",
    "cnn_model = models.vgg16(pretrained=True).features.to(\"cuda\" if torch.cuda.is_available() else \"cpu\")\n",
    "cnn_model.eval()\n",
    "\n",
    "# Define transformations for the input images\n",
    "transform = transforms.Compose([\n",
    "    transforms.ToPILImage(),\n",
    "    transforms.Resize((224, 224)),  # Resize to fit VGG16\n",
    "    transforms.ToTensor(),\n",
    "    transforms.Normalize(mean=[0.485, 0.456, 0.406], std=[0.229, 0.224, 0.225])\n",
    "])\n",
    "\n",
    "# Dataset class for loading and transforming images\n",
    "class ImageDataset(Dataset):\n",
    "    def __init__(self, images):\n",
    "        self.images = images\n",
    "\n",
    "    def __len__(self):\n",
    "        return len(self.images)\n",
    "\n",
    "    def __getitem__(self, idx):\n",
    "        image = self.images[idx]\n",
    "        image = transform(image)  # Apply transforms\n",
    "        return image\n",
    "\n",
    "# Function to extract and flatten features\n",
    "def extract_features(image_data, batch_size=16):\n",
    "    # Create DataLoader for images\n",
    "    dataset = ImageDataset(image_data)\n",
    "    loader = DataLoader(dataset, batch_size=batch_size, shuffle=False)\n",
    "\n",
    "    features = []\n",
    "    with torch.no_grad():\n",
    "        for images in loader:\n",
    "            images = images.to(\"cuda\" if torch.cuda.is_available() else \"cpu\")\n",
    "            output = cnn_model(images)\n",
    "            features.append(output.cpu().numpy())\n",
    "    features = np.concatenate(features, axis=0)\n",
    "    return features.reshape(features.shape[0], -1)  # Flatten to (num_samples, 25088)\n",
    "\n",
    "# Load image data, apply feature extraction and flattening, and save features\n",
    "image_data = np.load('/kaggle/working/GOD_With_EF_Map_Model/preprocessed/preprocessed_data_subject_1_train.npz')['images']\n",
    "extracted_features_flat = extract_features(image_data)\n",
    "print(\"Flattened extracted features shape:\", extracted_features_flat.shape)  # Should be (1200, 25088)\n",
    "np.save('/kaggle/working/GOD_With_EF_Map_Model/extracted_features_flat.npy', extracted_features_flat)\n",
    "print(\"Feature extraction and flattening completed and saved.\")\n"
   ]
  },
  {
   "cell_type": "code",
   "execution_count": 7,
   "id": "25d0abc9",
   "metadata": {
    "execution": {
     "iopub.execute_input": "2024-11-12T11:15:49.136329Z",
     "iopub.status.busy": "2024-11-12T11:15:49.135250Z",
     "iopub.status.idle": "2024-11-12T11:15:59.425252Z",
     "shell.execute_reply": "2024-11-12T11:15:59.424277Z"
    },
    "papermill": {
     "duration": 10.32547,
     "end_time": "2024-11-12T11:15:59.427768",
     "exception": false,
     "start_time": "2024-11-12T11:15:49.102298",
     "status": "completed"
    },
    "tags": []
   },
   "outputs": [
    {
     "name": "stdout",
     "output_type": "stream",
     "text": [
      "fMRI data shape: (1200, 4466)\n",
      "Flattened feature data shape: (1200, 25088)\n",
      "Epoch [1/10], Loss: 1.5975\n",
      "Epoch [2/10], Loss: 2.0882\n",
      "Epoch [3/10], Loss: 1.6299\n",
      "Epoch [4/10], Loss: 1.6222\n",
      "Epoch [5/10], Loss: 1.8276\n",
      "Epoch [6/10], Loss: 1.6688\n",
      "Epoch [7/10], Loss: 1.4132\n",
      "Epoch [8/10], Loss: 1.6987\n",
      "Epoch [9/10], Loss: 1.6755\n",
      "Epoch [10/10], Loss: 1.6281\n",
      "Mapping model training completed and saved.\n"
     ]
    }
   ],
   "source": [
    "import torch\n",
    "import torch.nn as nn\n",
    "import torch.optim as optim\n",
    "from torch.utils.data import DataLoader, TensorDataset\n",
    "import numpy as np\n",
    "\n",
    "# Set up device\n",
    "device = torch.device(\"cuda\" if torch.cuda.is_available() else \"cpu\")\n",
    "\n",
    "# Define a simple regression model to map fMRI data to flattened visual features\n",
    "class FMRItoFeatures(nn.Module):\n",
    "    def __init__(self, fmri_size, feature_size):\n",
    "        super(FMRItoFeatures, self).__init__()\n",
    "        self.fc = nn.Sequential(\n",
    "            nn.Linear(fmri_size, 1024),\n",
    "            nn.ReLU(),\n",
    "            nn.Linear(1024, 2048),\n",
    "            nn.ReLU(),\n",
    "            nn.Linear(2048, feature_size)  # Match feature_size to the flattened feature dimension (25088)\n",
    "        )\n",
    "\n",
    "    def forward(self, x):\n",
    "        return self.fc(x)\n",
    "\n",
    "# Load fMRI and flattened feature data\n",
    "fmri_data = np.load('/kaggle/working/GOD_With_EF_Map_Model/preprocessed/preprocessed_data_subject_1_train.npz')['fmri']\n",
    "feature_data_flat = np.load('/kaggle/working/GOD_With_EF_Map_Model/extracted_features_flat.npy')\n",
    "\n",
    "# Check shapes of loaded data\n",
    "print(\"fMRI data shape:\", fmri_data.shape)\n",
    "print(\"Flattened feature data shape:\", feature_data_flat.shape)\n",
    "\n",
    "# Convert data to PyTorch tensors\n",
    "fmri_data = torch.tensor(fmri_data, dtype=torch.float32)\n",
    "feature_data_flat = torch.tensor(feature_data_flat, dtype=torch.float32)\n",
    "\n",
    "# Ensure feature_size matches the second dimension of feature_data\n",
    "feature_size = feature_data_flat.shape[1]\n",
    "model = FMRItoFeatures(fmri_size=fmri_data.shape[1], feature_size=feature_size).to(device)\n",
    "\n",
    "# Create DataLoader\n",
    "dataset = TensorDataset(fmri_data, feature_data_flat)\n",
    "loader = DataLoader(dataset, batch_size=16, shuffle=True)\n",
    "\n",
    "# Initialize optimizer and loss function\n",
    "optimizer = optim.Adam(model.parameters(), lr=0.001)\n",
    "criterion = nn.MSELoss()\n",
    "\n",
    "# Train the model\n",
    "num_epochs = 10\n",
    "for epoch in range(num_epochs):\n",
    "    for fmri, features in loader:\n",
    "        fmri = fmri.to(device)\n",
    "        features = features.to(device)\n",
    "\n",
    "        optimizer.zero_grad()\n",
    "        outputs = model(fmri)\n",
    "        loss = criterion(outputs, features)\n",
    "        loss.backward()\n",
    "        optimizer.step()\n",
    "\n",
    "    print(f\"Epoch [{epoch + 1}/{num_epochs}], Loss: {loss.item():.4f}\")\n",
    "\n",
    "# Save the trained mapping model\n",
    "torch.save(model.state_dict(), '/kaggle/working/GOD_With_EF_Map_Model/fmri_to_features_model.pth')\n",
    "print(\"Mapping model training completed and saved.\")\n"
   ]
  },
  {
   "cell_type": "code",
   "execution_count": null,
   "id": "2c417397",
   "metadata": {
    "papermill": {
     "duration": 0.031561,
     "end_time": "2024-11-12T11:15:59.490234",
     "exception": false,
     "start_time": "2024-11-12T11:15:59.458673",
     "status": "completed"
    },
    "tags": []
   },
   "outputs": [],
   "source": []
  },
  {
   "cell_type": "code",
   "execution_count": null,
   "id": "a346a5bf",
   "metadata": {
    "papermill": {
     "duration": 0.030548,
     "end_time": "2024-11-12T11:15:59.551536",
     "exception": false,
     "start_time": "2024-11-12T11:15:59.520988",
     "status": "completed"
    },
    "tags": []
   },
   "outputs": [],
   "source": []
  }
 ],
 "metadata": {
  "kaggle": {
   "accelerator": "gpu",
   "dataSources": [],
   "dockerImageVersionId": 30786,
   "isGpuEnabled": true,
   "isInternetEnabled": true,
   "language": "python",
   "sourceType": "notebook"
  },
  "kernelspec": {
   "display_name": "Python 3",
   "language": "python",
   "name": "python3"
  },
  "language_info": {
   "codemirror_mode": {
    "name": "ipython",
    "version": 3
   },
   "file_extension": ".py",
   "mimetype": "text/x-python",
   "name": "python",
   "nbconvert_exporter": "python",
   "pygments_lexer": "ipython3",
   "version": "3.10.14"
  },
  "papermill": {
   "default_parameters": {},
   "duration": 161.728201,
   "end_time": "2024-11-12T11:16:01.307357",
   "environment_variables": {},
   "exception": null,
   "input_path": "__notebook__.ipynb",
   "output_path": "__notebook__.ipynb",
   "parameters": {},
   "start_time": "2024-11-12T11:13:19.579156",
   "version": "2.6.0"
  }
 },
 "nbformat": 4,
 "nbformat_minor": 5
}
